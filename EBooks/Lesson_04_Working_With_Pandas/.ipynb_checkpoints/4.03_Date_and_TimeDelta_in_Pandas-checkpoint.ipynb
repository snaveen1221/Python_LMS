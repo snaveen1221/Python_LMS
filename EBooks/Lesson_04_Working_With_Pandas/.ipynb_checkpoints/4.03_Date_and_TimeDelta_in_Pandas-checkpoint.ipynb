{
 "cells": [
  {
   "cell_type": "markdown",
   "id": "96d07990-8cfd-4872-b726-fefbee158f01",
   "metadata": {
    "id": "96d07990-8cfd-4872-b726-fefbee158f01"
   },
   "source": [
    "# __Date and TimeDelta in Pandas__"
   ]
  },
  {
   "cell_type": "markdown",
   "id": "f2c0c254-6526-4552-9ea8-a382738bd7d1",
   "metadata": {
    "id": "f2c0c254-6526-4552-9ea8-a382738bd7d1"
   },
   "source": [
    "## __Agenda__\n",
    "\n",
    "In this lesson, we will cover the following concepts with the help of examples:\n",
    "\n",
    "- Date and TimeDelta in Pandas\n",
    "- Date Handling in Pandas\n",
    "  * Extracting Components from Dates\n",
    "- Timedelta in Pandas\n",
    "  * Creating a Timedelta\n",
    "  * Performing Arithmetic Operations\n",
    "  * Resampling Time Series Data\n",
    "- Categorical Data Handling\n",
    "  * Creating a Categorical Variable\n",
    "  * Counting Occurrences of Each Category\n",
    "  * Creating Dummy Variables\n",
    "  * Label Encoding"
   ]
  },
  {
   "cell_type": "markdown",
   "id": "1aef4e5d-dd47-425e-b452-6bc8ddd77adb",
   "metadata": {},
   "source": [
    "## Creating Datetime object"
   ]
  },
  {
   "cell_type": "code",
   "execution_count": 5,
   "id": "1f441d68-54eb-4f5f-b160-4844f0956f13",
   "metadata": {},
   "outputs": [
    {
     "name": "stdout",
     "output_type": "stream",
     "text": [
      "2025-03-31\n"
     ]
    }
   ],
   "source": [
    "from datetime import date\n",
    "\n",
    "my_date = date(2025, 3, 31)\n",
    "print(my_date)"
   ]
  },
  {
   "cell_type": "code",
   "execution_count": 7,
   "id": "df7d8af9-a0d5-415c-a72f-81ea1535a2f2",
   "metadata": {},
   "outputs": [
    {
     "name": "stdout",
     "output_type": "stream",
     "text": [
      "2020-05-17 10:30:44\n"
     ]
    }
   ],
   "source": [
    "from datetime import datetime\n",
    "\n",
    "# Create a datetime object for May 17, 2020, at 10:30 AM\n",
    "my_datetime = datetime(2020, 5, 17, 10, 30, 44)\n",
    "print(my_datetime)"
   ]
  },
  {
   "cell_type": "code",
   "execution_count": 20,
   "id": "c20f68af-4955-499d-8057-e6acfdc0e8a4",
   "metadata": {},
   "outputs": [
    {
     "name": "stdout",
     "output_type": "stream",
     "text": [
      "2025-07-04\n"
     ]
    }
   ],
   "source": [
    "from datetime import date\n",
    "\n",
    "current_date = date.today()\n",
    "print(current_date)"
   ]
  },
  {
   "cell_type": "code",
   "execution_count": 23,
   "id": "70c645b1-7943-43f1-8158-9bba5d556c32",
   "metadata": {},
   "outputs": [
    {
     "name": "stdout",
     "output_type": "stream",
     "text": [
      "2025-07-04 20:36:33.243429\n"
     ]
    }
   ],
   "source": [
    "from datetime import datetime\n",
    "\n",
    "current_datetime = datetime.now()\n",
    "print(current_datetime)"
   ]
  },
  {
   "cell_type": "markdown",
   "id": "4f73fe83-3b00-4512-b279-9b5517e7764c",
   "metadata": {},
   "source": [
    "## Conversion of object dtype to datetime dtype"
   ]
  },
  {
   "cell_type": "markdown",
   "id": "eb1509b9-a9a2-41c8-9b40-a23ca4bd86b9",
   "metadata": {},
   "source": [
    "### 1. pd.to_datetime()"
   ]
  },
  {
   "cell_type": "code",
   "execution_count": 3,
   "id": "91a7f8b9-4a6f-46c3-9595-34adba6a1448",
   "metadata": {},
   "outputs": [
    {
     "name": "stdout",
     "output_type": "stream",
     "text": [
      "         Date    Event   Cost\n",
      "0   11/8/2011    Music  10000\n",
      "1  04/23/2008   Poetry   5000\n",
      "2   10/2/2019  Theatre  15000\n"
     ]
    }
   ],
   "source": [
    "# Importing pandas\n",
    "import pandas as pd\n",
    "\n",
    "# Creating a DataFrame\n",
    "df = pd.DataFrame({\n",
    "    'Date': ['11/8/2011', '04/23/2008', '10/2/2019'],\n",
    "    'Event': ['Music', 'Poetry', 'Theatre'],\n",
    "    'Cost': [10000, 5000, 15000]\n",
    "})\n",
    "\n",
    "print(df)\n",
    "\n",
    "\n",
    "\n"
   ]
  },
  {
   "cell_type": "code",
   "execution_count": 31,
   "id": "09b7ff0f-275d-49fd-9c2d-d81b946bf89a",
   "metadata": {},
   "outputs": [
    {
     "name": "stdout",
     "output_type": "stream",
     "text": [
      "Before Conversion:\n",
      "<class 'pandas.core.frame.DataFrame'>\n",
      "RangeIndex: 3 entries, 0 to 2\n",
      "Data columns (total 3 columns):\n",
      " #   Column  Non-Null Count  Dtype \n",
      "---  ------  --------------  ----- \n",
      " 0   Date    3 non-null      object\n",
      " 1   Event   3 non-null      object\n",
      " 2   Cost    3 non-null      int64 \n",
      "dtypes: int64(1), object(2)\n",
      "memory usage: 204.0+ bytes\n",
      "None\n"
     ]
    }
   ],
   "source": [
    "# Display initial data types\n",
    "print(\"Before Conversion:\")\n",
    "print(df.info())"
   ]
  },
  {
   "cell_type": "code",
   "execution_count": 33,
   "id": "e6947673-1174-4549-be8f-d13f675cdb59",
   "metadata": {},
   "outputs": [
    {
     "name": "stdout",
     "output_type": "stream",
     "text": [
      "\n",
      "After Conversion:\n",
      "<class 'pandas.core.frame.DataFrame'>\n",
      "RangeIndex: 3 entries, 0 to 2\n",
      "Data columns (total 3 columns):\n",
      " #   Column  Non-Null Count  Dtype         \n",
      "---  ------  --------------  -----         \n",
      " 0   Date    3 non-null      datetime64[ns]\n",
      " 1   Event   3 non-null      object        \n",
      " 2   Cost    3 non-null      int64         \n",
      "dtypes: datetime64[ns](1), int64(1), object(1)\n",
      "memory usage: 204.0+ bytes\n",
      "None\n"
     ]
    }
   ],
   "source": [
    "# Converting 'Date' column to datetime\n",
    "df['Date'] = pd.to_datetime(df['Date'])\n",
    "\n",
    "# Display data types after conversion\n",
    "print(\"\\nAfter Conversion:\")\n",
    "print(df.info())\n"
   ]
  },
  {
   "cell_type": "markdown",
   "id": "aa386c78-d463-484d-bd58-f9528a6eb13b",
   "metadata": {},
   "source": [
    "### 2. df['Date'].astype('datetime64[ns]')"
   ]
  },
  {
   "cell_type": "code",
   "execution_count": 37,
   "id": "2b16d615-ae15-4ebc-b4e3-c8c1f62388cf",
   "metadata": {},
   "outputs": [
    {
     "name": "stdout",
     "output_type": "stream",
     "text": [
      "\n",
      "After Conversion:\n",
      "<class 'pandas.core.frame.DataFrame'>\n",
      "RangeIndex: 3 entries, 0 to 2\n",
      "Data columns (total 4 columns):\n",
      " #   Column  Non-Null Count  Dtype         \n",
      "---  ------  --------------  -----         \n",
      " 0   Date    3 non-null      datetime64[ns]\n",
      " 1   Event   3 non-null      object        \n",
      " 2   Cost    3 non-null      int64         \n",
      " 3   Date1   3 non-null      datetime64[ns]\n",
      "dtypes: datetime64[ns](2), int64(1), object(1)\n",
      "memory usage: 228.0+ bytes\n"
     ]
    }
   ],
   "source": [
    "# Converting the 'Date' column to datetime format using astype()\n",
    "df['Date1'] = df['Date'].astype('datetime64[ns]')\n",
    "\n",
    "# Checking the data type after conversion\n",
    "print(\"\\nAfter Conversion:\")\n",
    "df.info()"
   ]
  },
  {
   "cell_type": "markdown",
   "id": "9379d000-7c17-4e58-8db6-daab42e868ab",
   "metadata": {
    "id": "9379d000-7c17-4e58-8db6-daab42e868ab"
   },
   "source": [
    "##  __1. Date and TimeDelta in Pandas__"
   ]
  },
  {
   "cell_type": "markdown",
   "id": "3a6851fe-3799-4043-8f3b-e8ecd3b4d87a",
   "metadata": {
    "id": "3a6851fe-3799-4043-8f3b-e8ecd3b4d87a"
   },
   "source": [
    "In Pandas, the datetime module provides robust functionality for handling date and time data, while the timedelta class allows for convenient manipulation of time intervals. This combination is particularly useful for time-based analysis and working with temporal data in a DataFrame."
   ]
  },
  {
   "cell_type": "markdown",
   "id": "f5948c8c-6b33-46bd-a346-4368c5d5f765",
   "metadata": {
    "id": "f5948c8c-6b33-46bd-a346-4368c5d5f765"
   },
   "source": [
    "![link text](https://labcontent.simplicdn.net/data-content/content-assets/Data_and_AI/ADSP_Images/Lesson_04_Working_with_Pandas/3_Date_and_TimeDelta_in_Pandas/Date_and_Time.png)"
   ]
  },
  {
   "cell_type": "markdown",
   "id": "61f93b4c-92b4-4f84-a512-687b4667e4bf",
   "metadata": {
    "id": "61f93b4c-92b4-4f84-a512-687b4667e4bf"
   },
   "source": [
    "## __2. Date Handling in Pandas__\n",
    "#### Creating a Date Range:\n",
    "\n",
    "- The date_range function is used to generate a sequence of dates within a specified range.\n",
    "- It is a powerful tool for creating time indices or date columns in a DataFrame.\n",
    "- The start and end parameters define the range, while freq determines the frequency, such as daily (D) or monthly (M).\n",
    "\n",
    "https://pandas.pydata.org/docs/reference/api/pandas.date_range.html\n"
   ]
  },
  {
   "cell_type": "code",
   "execution_count": 41,
   "id": "088c2a47-9627-42a8-a3bc-1120a38fbc3a",
   "metadata": {
    "colab": {
     "base_uri": "https://localhost:8080/"
    },
    "executionInfo": {
     "elapsed": 872,
     "status": "ok",
     "timestamp": 1716223073591,
     "user": {
      "displayName": "Ashish Jangid",
      "userId": "15170006874299393728"
     },
     "user_tz": -330
    },
    "id": "088c2a47-9627-42a8-a3bc-1120a38fbc3a",
    "outputId": "54228509-9c6f-4508-dc99-ad29d582940b"
   },
   "outputs": [
    {
     "name": "stdout",
     "output_type": "stream",
     "text": [
      "DatetimeIndex(['2025-07-04', '2025-07-07', '2025-07-08', '2025-07-09',\n",
      "               '2025-07-10'],\n",
      "              dtype='datetime64[ns]', freq='B')\n"
     ]
    }
   ],
   "source": [
    "import pandas as pd\n",
    "\n",
    "# Generate a date range\n",
    "date_range = pd.date_range(start='2025-07-04',end='2025-07-10', freq='B')\n",
    "print(date_range)"
   ]
  },
  {
   "cell_type": "markdown",
   "id": "b31e7542-2f0a-4666-b6a9-f23002dc1bb7",
   "metadata": {},
   "source": [
    "Purpose of freq:\n",
    "\n",
    "The freq parameter determines the step size between consecutive dates in the resulting DatetimeIndex. It allows for the creation of date ranges with various granularities, such as:\n",
    "\n",
    "Daily: 'D'\n",
    "\n",
    "Hourly: 'H'\n",
    "\n",
    "Minute: 'T' or 'Min'\n",
    "\n",
    "Second: 'S'\n",
    "\n",
    "Business Day: 'B' (excludes weekends)\n",
    "\n",
    "Monthly End: 'M'\n",
    "\n",
    "Quarterly End: 'Q'\n",
    "\n",
    "Yearly End: 'A'"
   ]
  },
  {
   "cell_type": "code",
   "execution_count": 32,
   "id": "59232ac3-ef94-4965-9ef7-d3178ebdeb7f",
   "metadata": {},
   "outputs": [
    {
     "name": "stdout",
     "output_type": "stream",
     "text": [
      "2018-01-01 00:00:00\n",
      "2018-01-01 05:00:00\n",
      "2018-01-01 10:00:00\n",
      "2018-01-01 15:00:00\n",
      "2018-01-01 20:00:00\n",
      "2018-01-02 01:00:00\n",
      "2018-01-02 06:00:00\n",
      "2018-01-02 11:00:00\n",
      "2018-01-02 16:00:00\n",
      "2018-01-02 21:00:00\n",
      "2018-01-03 02:00:00\n",
      "2018-01-03 07:00:00\n",
      "2018-01-03 12:00:00\n",
      "2018-01-03 17:00:00\n",
      "2018-01-03 22:00:00\n",
      "2018-01-04 03:00:00\n",
      "2018-01-04 08:00:00\n",
      "2018-01-04 13:00:00\n",
      "2018-01-04 18:00:00\n",
      "2018-01-04 23:00:00\n"
     ]
    }
   ],
   "source": [
    "# importing pandas as pd\n",
    "import pandas as pd\n",
    "\n",
    "per1 = pd.date_range(start ='1-1-2018',end ='1-05-2018', freq ='5h')\n",
    "\n",
    "for val in per1:\n",
    "    print(val)"
   ]
  },
  {
   "cell_type": "code",
   "execution_count": 30,
   "id": "01da8433-2758-4939-b268-6490abda3c4d",
   "metadata": {},
   "outputs": [
    {
     "data": {
      "text/plain": [
       "DatetimeIndex(['2018-01-01 00:00:00', '2018-01-01 05:00:00',\n",
       "               '2018-01-01 10:00:00', '2018-01-01 15:00:00',\n",
       "               '2018-01-01 20:00:00', '2018-01-02 01:00:00',\n",
       "               '2018-01-02 06:00:00', '2018-01-02 11:00:00',\n",
       "               '2018-01-02 16:00:00', '2018-01-02 21:00:00',\n",
       "               '2018-01-03 02:00:00', '2018-01-03 07:00:00',\n",
       "               '2018-01-03 12:00:00', '2018-01-03 17:00:00',\n",
       "               '2018-01-03 22:00:00', '2018-01-04 03:00:00',\n",
       "               '2018-01-04 08:00:00', '2018-01-04 13:00:00',\n",
       "               '2018-01-04 18:00:00', '2018-01-04 23:00:00'],\n",
       "              dtype='datetime64[ns]', freq='5h')"
      ]
     },
     "execution_count": 30,
     "metadata": {},
     "output_type": "execute_result"
    }
   ],
   "source": [
    "per1"
   ]
  },
  {
   "cell_type": "code",
   "execution_count": 39,
   "id": "08c04b74-a595-4799-af07-60a557ed0d68",
   "metadata": {},
   "outputs": [
    {
     "data": {
      "text/plain": [
       "DatetimeIndex(['2018-01-01 00:00:00+09:00', '2018-01-02 00:00:00+09:00',\n",
       "               '2018-01-03 00:00:00+09:00', '2018-01-04 00:00:00+09:00',\n",
       "               '2018-01-05 00:00:00+09:00', '2018-01-06 00:00:00+09:00',\n",
       "               '2018-01-07 00:00:00+09:00', '2018-01-08 00:00:00+09:00',\n",
       "               '2018-01-09 00:00:00+09:00', '2018-01-10 00:00:00+09:00',\n",
       "               '2018-01-11 00:00:00+09:00', '2018-01-12 00:00:00+09:00',\n",
       "               '2018-01-13 00:00:00+09:00'],\n",
       "              dtype='datetime64[ns, Asia/Tokyo]', freq='D')"
      ]
     },
     "execution_count": 39,
     "metadata": {},
     "output_type": "execute_result"
    }
   ],
   "source": [
    "# importing pandas as pd\n",
    "import pandas as pd\n",
    "\n",
    "# Specify start and periods, the number of periods (days).\n",
    "dRan1 = pd.date_range(start='1-1-2018', periods=13, tz='Asia/Tokyo')\n",
    "\n",
    "dRan1"
   ]
  },
  {
   "cell_type": "markdown",
   "id": "59c42b56-9eaa-4900-bdd0-8a4f9521e805",
   "metadata": {
    "id": "59c42b56-9eaa-4900-bdd0-8a4f9521e805"
   },
   "source": [
    "### __2.1 Extracting Components from Dates__  (to_datetime)\n",
    "\n",
    "\n",
    "Pandas provides the dt accessor to extract various components (Example: day, month, year) from a date column in a DataFrame. This is valuable for time-based analysis when specific date attributes need to be considered.\n",
    "\n",
    "https://pandas.pydata.org/docs/reference/api/pandas.Series.dt.html"
   ]
  },
  {
   "cell_type": "code",
   "execution_count": 30,
   "id": "83ce90c4-63bd-4109-800f-8b4afdd875f2",
   "metadata": {},
   "outputs": [
    {
     "name": "stdout",
     "output_type": "stream",
     "text": [
      "{'Date': ['2023-01-01', '2023-02-15', '2023-03-20']}\n",
      "<class 'dict'>\n"
     ]
    }
   ],
   "source": [
    "import pandas as pd\n",
    "\n",
    "# Assuming 'df' is your DataFrame with a 'Date' column\n",
    "data = {'Date': ['2023-01-01', '2023-02-15', '2023-03-20']}\n",
    "print(data)\n",
    "print(type(data))"
   ]
  },
  {
   "cell_type": "code",
   "execution_count": 32,
   "id": "56f76082-0198-4587-81eb-100726a1e723",
   "metadata": {},
   "outputs": [
    {
     "name": "stdout",
     "output_type": "stream",
     "text": [
      "         Date\n",
      "0  2023-01-01\n",
      "1  2023-02-15\n",
      "2  2023-03-20\n",
      "<class 'pandas.core.series.Series'>\n",
      "Date    object\n",
      "dtype: object\n"
     ]
    }
   ],
   "source": [
    "df = pd.DataFrame(data)\n",
    "print(df)\n",
    "print(type(df.Date))\n",
    "print(df.dtypes)"
   ]
  },
  {
   "cell_type": "code",
   "execution_count": 34,
   "id": "e51562b2-67b7-4e54-b27b-68fb84ab322d",
   "metadata": {},
   "outputs": [
    {
     "ename": "AttributeError",
     "evalue": "Can only use .dt accessor with datetimelike values",
     "output_type": "error",
     "traceback": [
      "\u001b[1;31m---------------------------------------------------------------------------\u001b[0m",
      "\u001b[1;31mAttributeError\u001b[0m                            Traceback (most recent call last)",
      "Cell \u001b[1;32mIn[34], line 1\u001b[0m\n\u001b[1;32m----> 1\u001b[0m df[\u001b[38;5;124m'\u001b[39m\u001b[38;5;124mDay\u001b[39m\u001b[38;5;124m'\u001b[39m] \u001b[38;5;241m=\u001b[39m df[\u001b[38;5;124m'\u001b[39m\u001b[38;5;124mDate\u001b[39m\u001b[38;5;124m'\u001b[39m]\u001b[38;5;241m.\u001b[39mdt\u001b[38;5;241m.\u001b[39mday\n",
      "File \u001b[1;32mC:\\ProgramData\\anaconda3\\Lib\\site-packages\\pandas\\core\\generic.py:6299\u001b[0m, in \u001b[0;36mNDFrame.__getattr__\u001b[1;34m(self, name)\u001b[0m\n\u001b[0;32m   6292\u001b[0m \u001b[38;5;28;01mif\u001b[39;00m (\n\u001b[0;32m   6293\u001b[0m     name \u001b[38;5;129;01mnot\u001b[39;00m \u001b[38;5;129;01min\u001b[39;00m \u001b[38;5;28mself\u001b[39m\u001b[38;5;241m.\u001b[39m_internal_names_set\n\u001b[0;32m   6294\u001b[0m     \u001b[38;5;129;01mand\u001b[39;00m name \u001b[38;5;129;01mnot\u001b[39;00m \u001b[38;5;129;01min\u001b[39;00m \u001b[38;5;28mself\u001b[39m\u001b[38;5;241m.\u001b[39m_metadata\n\u001b[0;32m   6295\u001b[0m     \u001b[38;5;129;01mand\u001b[39;00m name \u001b[38;5;129;01mnot\u001b[39;00m \u001b[38;5;129;01min\u001b[39;00m \u001b[38;5;28mself\u001b[39m\u001b[38;5;241m.\u001b[39m_accessors\n\u001b[0;32m   6296\u001b[0m     \u001b[38;5;129;01mand\u001b[39;00m \u001b[38;5;28mself\u001b[39m\u001b[38;5;241m.\u001b[39m_info_axis\u001b[38;5;241m.\u001b[39m_can_hold_identifiers_and_holds_name(name)\n\u001b[0;32m   6297\u001b[0m ):\n\u001b[0;32m   6298\u001b[0m     \u001b[38;5;28;01mreturn\u001b[39;00m \u001b[38;5;28mself\u001b[39m[name]\n\u001b[1;32m-> 6299\u001b[0m \u001b[38;5;28;01mreturn\u001b[39;00m \u001b[38;5;28mobject\u001b[39m\u001b[38;5;241m.\u001b[39m\u001b[38;5;21m__getattribute__\u001b[39m(\u001b[38;5;28mself\u001b[39m, name)\n",
      "File \u001b[1;32mC:\\ProgramData\\anaconda3\\Lib\\site-packages\\pandas\\core\\accessor.py:224\u001b[0m, in \u001b[0;36mCachedAccessor.__get__\u001b[1;34m(self, obj, cls)\u001b[0m\n\u001b[0;32m    221\u001b[0m \u001b[38;5;28;01mif\u001b[39;00m obj \u001b[38;5;129;01mis\u001b[39;00m \u001b[38;5;28;01mNone\u001b[39;00m:\n\u001b[0;32m    222\u001b[0m     \u001b[38;5;66;03m# we're accessing the attribute of the class, i.e., Dataset.geo\u001b[39;00m\n\u001b[0;32m    223\u001b[0m     \u001b[38;5;28;01mreturn\u001b[39;00m \u001b[38;5;28mself\u001b[39m\u001b[38;5;241m.\u001b[39m_accessor\n\u001b[1;32m--> 224\u001b[0m accessor_obj \u001b[38;5;241m=\u001b[39m \u001b[38;5;28mself\u001b[39m\u001b[38;5;241m.\u001b[39m_accessor(obj)\n\u001b[0;32m    225\u001b[0m \u001b[38;5;66;03m# Replace the property with the accessor object. Inspired by:\u001b[39;00m\n\u001b[0;32m    226\u001b[0m \u001b[38;5;66;03m# https://www.pydanny.com/cached-property.html\u001b[39;00m\n\u001b[0;32m    227\u001b[0m \u001b[38;5;66;03m# We need to use object.__setattr__ because we overwrite __setattr__ on\u001b[39;00m\n\u001b[0;32m    228\u001b[0m \u001b[38;5;66;03m# NDFrame\u001b[39;00m\n\u001b[0;32m    229\u001b[0m \u001b[38;5;28mobject\u001b[39m\u001b[38;5;241m.\u001b[39m\u001b[38;5;21m__setattr__\u001b[39m(obj, \u001b[38;5;28mself\u001b[39m\u001b[38;5;241m.\u001b[39m_name, accessor_obj)\n",
      "File \u001b[1;32mC:\\ProgramData\\anaconda3\\Lib\\site-packages\\pandas\\core\\indexes\\accessors.py:643\u001b[0m, in \u001b[0;36mCombinedDatetimelikeProperties.__new__\u001b[1;34m(cls, data)\u001b[0m\n\u001b[0;32m    640\u001b[0m \u001b[38;5;28;01melif\u001b[39;00m \u001b[38;5;28misinstance\u001b[39m(data\u001b[38;5;241m.\u001b[39mdtype, PeriodDtype):\n\u001b[0;32m    641\u001b[0m     \u001b[38;5;28;01mreturn\u001b[39;00m PeriodProperties(data, orig)\n\u001b[1;32m--> 643\u001b[0m \u001b[38;5;28;01mraise\u001b[39;00m \u001b[38;5;167;01mAttributeError\u001b[39;00m(\u001b[38;5;124m\"\u001b[39m\u001b[38;5;124mCan only use .dt accessor with datetimelike values\u001b[39m\u001b[38;5;124m\"\u001b[39m)\n",
      "\u001b[1;31mAttributeError\u001b[0m: Can only use .dt accessor with datetimelike values"
     ]
    }
   ],
   "source": [
    "df['Day'] = df['Date'].dt.day\n"
   ]
  },
  {
   "cell_type": "code",
   "execution_count": 43,
   "id": "7cedbb23-4a88-4b7d-8765-d7d55dfc44fd",
   "metadata": {},
   "outputs": [
    {
     "name": "stdout",
     "output_type": "stream",
     "text": [
      "        Date    Event   Cost      Date1\n",
      "0 2011-11-08    Music  10000 2011-11-08\n",
      "1 2008-04-23   Poetry   5000 2008-04-23\n",
      "2 2019-10-02  Theatre  15000 2019-10-02\n",
      "Date     datetime64[ns]\n",
      "Event            object\n",
      "Cost              int64\n",
      "Date1    datetime64[ns]\n",
      "dtype: object\n"
     ]
    }
   ],
   "source": [
    "df['Date1'] = pd.to_datetime(df['Date'])\n",
    "print(df)\n",
    "print(df.dtypes)"
   ]
  },
  {
   "cell_type": "markdown",
   "id": "52574908-e274-470a-8b5b-5099316d66fb",
   "metadata": {},
   "source": [
    "Once a Series or DataFrame column is in datetime format, the .dt accessor allows extraction of individual components:\n",
    "\n",
    "dt.year, dt.month, dt.day\n",
    "\n",
    "dt.hour, dt.minute, dt.second, dt.microsecond, dt.nanosecond\n",
    "\n",
    "dt.dayofweek (0 for Monday, 6 for Sunday), dt.day_name() (e.g., 'Friday')\n",
    "\n",
    "dt.month_name() (e.g., 'July')\n",
    "\n",
    "dt.quarter, dt.dayofyear\n"
   ]
  },
  {
   "cell_type": "code",
   "execution_count": 45,
   "id": "9baa59c5-08ba-4cb0-bf01-ff8c83076ad3",
   "metadata": {
    "colab": {
     "base_uri": "https://localhost:8080/"
    },
    "executionInfo": {
     "elapsed": 1406,
     "status": "ok",
     "timestamp": 1716223090911,
     "user": {
      "displayName": "Ashish Jangid",
      "userId": "15170006874299393728"
     },
     "user_tz": -330
    },
    "id": "9baa59c5-08ba-4cb0-bf01-ff8c83076ad3",
    "outputId": "4d118b05-3a16-4bed-cd81-d5e973c11b80"
   },
   "outputs": [
    {
     "name": "stdout",
     "output_type": "stream",
     "text": [
      "        Date  Day  Month  Year\n",
      "0 2011-11-08    8     11  2011\n",
      "1 2008-04-23   23      4  2008\n",
      "2 2019-10-02    2     10  2019\n"
     ]
    }
   ],
   "source": [
    "# Extracting day, month, and year information\n",
    "df['Day'] = df['Date'].dt.day\n",
    "df['Month'] = df['Date'].dt.month\n",
    "df['Year'] = df['Date'].dt.year\n",
    "\n",
    "# Displaying the DataFrame with extracted information\n",
    "print(df[['Date', 'Day', 'Month', 'Year']])\n"
   ]
  },
  {
   "cell_type": "code",
   "execution_count": 9,
   "id": "200a9114-8143-45f1-afc6-57371bf95ac1",
   "metadata": {
    "colab": {
     "base_uri": "https://localhost:8080/"
    },
    "executionInfo": {
     "elapsed": 960,
     "status": "ok",
     "timestamp": 1716223096696,
     "user": {
      "displayName": "Ashish Jangid",
      "userId": "15170006874299393728"
     },
     "user_tz": -330
    },
    "id": "200a9114-8143-45f1-afc6-57371bf95ac1",
    "outputId": "9d2a0f9f-afa3-4d31-b517-6a4c0272797b"
   },
   "outputs": [
    {
     "name": "stdout",
     "output_type": "stream",
     "text": [
      "        Date\n",
      "0 2025-07-04\n",
      "1 2025-07-05\n",
      "2 2025-07-06\n",
      "3 2025-07-07\n",
      "4 2025-07-08\n"
     ]
    },
    {
     "data": {
      "text/plain": [
       "0    4\n",
       "1    5\n",
       "2    6\n",
       "3    0\n",
       "4    1\n",
       "Name: Weekday, dtype: int32"
      ]
     },
     "execution_count": 9,
     "metadata": {},
     "output_type": "execute_result"
    }
   ],
   "source": [
    "\n",
    "# Extracting weekday and weekend information\n",
    "df = pd.DataFrame({'Date': pd.date_range(start='2025-07-04', periods=5)})\n",
    "print(df)\n",
    "df['Weekday'] = df['Date'].dt.weekday\n",
    "df['Weekday']"
   ]
  },
  {
   "cell_type": "code",
   "execution_count": 31,
   "id": "a25a18a9-27a1-4e00-aa0b-d5dc2524250c",
   "metadata": {},
   "outputs": [
    {
     "data": {
      "text/plain": [
       "False"
      ]
     },
     "execution_count": 31,
     "metadata": {},
     "output_type": "execute_result"
    }
   ],
   "source": [
    "4 // 5 == 1"
   ]
  },
  {
   "cell_type": "code",
   "execution_count": 29,
   "id": "9fdd5d31-2f0c-41d6-a8b7-ed887ef2cd63",
   "metadata": {},
   "outputs": [
    {
     "data": {
      "text/plain": [
       "0    False\n",
       "1     True\n",
       "2     True\n",
       "3    False\n",
       "4    False\n",
       "Name: IsWeekend, dtype: bool"
      ]
     },
     "execution_count": 29,
     "metadata": {},
     "output_type": "execute_result"
    }
   ],
   "source": [
    "df['IsWeekend'] = df['Date'].dt.weekday // 5 == 1\n",
    "df['IsWeekend']"
   ]
  },
  {
   "cell_type": "code",
   "execution_count": 19,
   "id": "c6c6e89a-8d73-4531-87b6-3854722b5710",
   "metadata": {},
   "outputs": [
    {
     "name": "stdout",
     "output_type": "stream",
     "text": [
      "        Date  Weekday  IsWeekend\n",
      "0 2025-07-04        4      False\n",
      "1 2025-07-05        5       True\n",
      "2 2025-07-06        6       True\n",
      "3 2025-07-07        0      False\n",
      "4 2025-07-08        1      False\n"
     ]
    }
   ],
   "source": [
    "print(df[['Date', 'Weekday', 'IsWeekend']])\n"
   ]
  },
  {
   "cell_type": "code",
   "execution_count": 11,
   "id": "d2918f88-17ff-4801-a3ff-5344efd9566b",
   "metadata": {
    "colab": {
     "base_uri": "https://localhost:8080/"
    },
    "executionInfo": {
     "elapsed": 835,
     "status": "ok",
     "timestamp": 1716223100825,
     "user": {
      "displayName": "Ashish Jangid",
      "userId": "15170006874299393728"
     },
     "user_tz": -330
    },
    "id": "d2918f88-17ff-4801-a3ff-5344efd9566b",
    "outputId": "2af824e8-221c-4e25-d0d2-771547815c53"
   },
   "outputs": [
    {
     "name": "stdout",
     "output_type": "stream",
     "text": [
      "        Date PreviousDate   NextDate\n",
      "0 2025-04-12   2025-04-11 2025-04-13\n",
      "1 2025-04-13   2025-04-12 2025-04-14\n",
      "2 2025-04-14   2025-04-13 2025-04-15\n",
      "3 2025-04-15   2025-04-14 2025-04-16\n",
      "4 2025-04-16   2025-04-15 2025-04-17\n"
     ]
    }
   ],
   "source": [
    "# Shifting dates forward or backward\n",
    "df['Date'] = pd.to_datetime(df['Date'])\n",
    "df['PreviousDate'] = df['Date'] - pd.Timedelta(days=1)\n",
    "df['NextDate'] = df['Date'] + pd.Timedelta(days=1)\n",
    "print(df[['Date', 'PreviousDate', 'NextDate']])"
   ]
  },
  {
   "cell_type": "markdown",
   "id": "4792b42e-900d-4f92-bbc6-542870e6d5da",
   "metadata": {
    "id": "4792b42e-900d-4f92-bbc6-542870e6d5da"
   },
   "source": [
    "## __3. Timedelta in Pandas__\n",
    "### __3.1 Creating a Timedelta__\n",
    "\n",
    "https://pandas.pydata.org/docs/user_guide/timedeltas.html\n",
    "\n",
    "- The Timedelta class in Pandas represents a duration or the difference between two dates or times.\n",
    "- It can be created by specifying the desired duration, such as days, hours, or minutes."
   ]
  },
  {
   "cell_type": "code",
   "execution_count": 61,
   "id": "9d89abda-51ca-4966-b4b4-73e6714f8c45",
   "metadata": {
    "executionInfo": {
     "elapsed": 864,
     "status": "ok",
     "timestamp": 1716223161798,
     "user": {
      "displayName": "Ashish Jangid",
      "userId": "15170006874299393728"
     },
     "user_tz": -330
    },
    "id": "9d89abda-51ca-4966-b4b4-73e6714f8c45"
   },
   "outputs": [
    {
     "name": "stdout",
     "output_type": "stream",
     "text": [
      "                 Date  Value1  Value2\n",
      "0 2023-01-01 00:00:00       0      10\n",
      "1 2023-01-01 01:00:00       1      11\n",
      "2 2023-01-01 02:00:00       2      12\n",
      "3 2023-01-01 03:00:00       3      13\n",
      "4 2023-01-01 04:00:00       4      14\n",
      "5 2023-01-01 05:00:00       5      15\n",
      "6 2023-01-01 06:00:00       6      16\n",
      "7 2023-01-01 07:00:00       7      17\n",
      "8 2023-01-01 08:00:00       8      18\n",
      "9 2023-01-01 09:00:00       9      19\n",
      "3 days 00:00:00\n"
     ]
    }
   ],
   "source": [
    "import pandas as pd\n",
    "\n",
    "data = {\n",
    "    'Date': pd.date_range(start='2023-01-01', periods=10, freq='h'),\n",
    "    'Value1': range(10),\n",
    "    'Value2': range(10, 20)\n",
    "}\n",
    "df = pd.DataFrame(data)\n",
    "print(df)\n",
    "\n",
    "# Creating a timedelta of 3 days\n",
    "delta = pd.Timedelta(days=3)\n",
    "print(delta)"
   ]
  },
  {
   "cell_type": "markdown",
   "id": "5b21c669-9d8c-447e-b083-b3459b061ca5",
   "metadata": {
    "id": "5b21c669-9d8c-447e-b083-b3459b061ca5"
   },
   "source": [
    "### __3.2 Performing Arithmetic Operations__\n",
    "\n",
    "Timedelta objects can be used to perform arithmetic operations on dates. For example, adding a timedelta to a date results in a new date. This is useful for calculating future or past dates based on a given time interval."
   ]
  },
  {
   "cell_type": "code",
   "execution_count": 30,
   "id": "eab9fbc7-47e1-42c3-8b82-032a888f7aa0",
   "metadata": {
    "colab": {
     "base_uri": "https://localhost:8080/"
    },
    "executionInfo": {
     "elapsed": 894,
     "status": "ok",
     "timestamp": 1716223200449,
     "user": {
      "displayName": "Ashish Jangid",
      "userId": "15170006874299393728"
     },
     "user_tz": -330
    },
    "id": "eab9fbc7-47e1-42c3-8b82-032a888f7aa0",
    "outputId": "470ee14e-c10a-4da7-e19a-34799737af14"
   },
   "outputs": [
    {
     "name": "stdout",
     "output_type": "stream",
     "text": [
      "                 Date          FutureDate\n",
      "0 2023-01-01 00:00:00 2023-01-18 12:00:00\n",
      "1 2023-01-01 01:00:00 2023-01-18 13:00:00\n",
      "2 2023-01-01 02:00:00 2023-01-18 14:00:00\n",
      "3 2023-01-01 03:00:00 2023-01-18 15:00:00\n",
      "4 2023-01-01 04:00:00 2023-01-18 16:00:00\n",
      "5 2023-01-01 05:00:00 2023-01-18 17:00:00\n",
      "6 2023-01-01 06:00:00 2023-01-18 18:00:00\n",
      "7 2023-01-01 07:00:00 2023-01-18 19:00:00\n",
      "8 2023-01-01 08:00:00 2023-01-18 20:00:00\n",
      "9 2023-01-01 09:00:00 2023-01-18 21:00:00\n"
     ]
    }
   ],
   "source": [
    "# Performing arithmetic operations with timedeltas\n",
    "df['Date'] = pd.to_datetime(df['Date'])\n",
    "df['FutureDate'] = df['Date'] + pd.Timedelta(weeks=2, days=3, hours=12)\n",
    "print(df[['Date', 'FutureDate']])"
   ]
  },
  {
   "attachments": {
    "769e4cd2-9eef-454e-ac70-c4e1283489d9.png": {
     "image/png": "[encoded data removed]"
    }
   },
   "cell_type": "markdown",
   "id": "fb5e48ae-4311-424a-9ac6-b8d23d6e6f16",
   "metadata": {
    "id": "fb5e48ae-4311-424a-9ac6-b8d23d6e6f16"
   },
   "source": [
    "### __3.3 Resampling Time Series Data__\n",
    "\n",
    "Time series data often comes with irregular time intervals. Resampling is the process of changing the frequency of the time series data, either by upsampling (increasing frequency) or downsampling (decreasing frequency).\n",
    "\n",
    "![image.png](attachment:769e4cd2-9eef-454e-ac70-c4e1283489d9.png)"
   ]
  },
  {
   "cell_type": "code",
   "execution_count": 63,
   "id": "b81812ca-9c8c-4ade-9a97-ded6e1133af9",
   "metadata": {
    "colab": {
     "base_uri": "https://localhost:8080/"
    },
    "executionInfo": {
     "elapsed": 784,
     "status": "ok",
     "timestamp": 1716223217342,
     "user": {
      "displayName": "Ashish Jangid",
      "userId": "15170006874299393728"
     },
     "user_tz": -330
    },
    "id": "b81812ca-9c8c-4ade-9a97-ded6e1133af9",
    "outputId": "40a18fba-ce35-48e9-d673-a58d45fc94b5"
   },
   "outputs": [
    {
     "name": "stdout",
     "output_type": "stream",
     "text": [
      "                     Value1  Value2\n",
      "Date                               \n",
      "2023-01-01 00:00:00       0      10\n",
      "2023-01-01 01:00:00       1      11\n",
      "2023-01-01 02:00:00       2      12\n",
      "2023-01-01 03:00:00       3      13\n",
      "2023-01-01 04:00:00       4      14\n",
      "2023-01-01 05:00:00       5      15\n",
      "2023-01-01 06:00:00       6      16\n",
      "2023-01-01 07:00:00       7      17\n",
      "2023-01-01 08:00:00       8      18\n",
      "2023-01-01 09:00:00       9      19\n",
      "            Value1  Value2\n",
      "Date                      \n",
      "2023-01-01      45     145\n"
     ]
    }
   ],
   "source": [
    "# Resampling time series data\n",
    "df.set_index('Date', inplace=True)\n",
    "print(df)\n",
    "df_resampled = df.select_dtypes(include='number').resample('D').sum()\n",
    "print(df_resampled)"
   ]
  },
  {
   "cell_type": "code",
   "execution_count": 65,
   "id": "0ebbb302-36cb-4fb5-a060-1aae09744319",
   "metadata": {},
   "outputs": [
    {
     "data": {
      "text/plain": [
       "2020-01-01 00:00:00    0\n",
       "2020-01-01 01:00:00    1\n",
       "2020-01-01 02:00:00    2\n",
       "2020-01-01 03:00:00    3\n",
       "2020-01-01 04:00:00    4\n",
       "Freq: h, dtype: int64"
      ]
     },
     "execution_count": 65,
     "metadata": {},
     "output_type": "execute_result"
    }
   ],
   "source": [
    "import pandas as pd\n",
    "rng = pd.date_range(start = \"1-1-2020\", periods=5, freq=\"h\")\n",
    "ts = pd.Series(data=range(5), index=rng)\n",
    "ts"
   ]
  },
  {
   "cell_type": "markdown",
   "id": "fb5ea318-ba88-417d-bce8-f5a9ca2b7452",
   "metadata": {},
   "source": [
    "#### Downsampling\n"
   ]
  },
  {
   "cell_type": "code",
   "execution_count": 42,
   "id": "3d745efd-62d5-4971-a820-74d68fc89159",
   "metadata": {},
   "outputs": [
    {
     "data": {
      "text/plain": [
       "2020-01-01 00:00:00    0.5\n",
       "2020-01-01 01:30:00    2.0\n",
       "2020-01-01 03:00:00    3.5\n",
       "Freq: 90min, dtype: float64"
      ]
     },
     "execution_count": 42,
     "metadata": {},
     "output_type": "execute_result"
    }
   ],
   "source": [
    "ts.resample(\"1h30min\").mean()\n"
   ]
  },
  {
   "cell_type": "code",
   "execution_count": 46,
   "id": "b44bf96d-a9b4-4c7f-95cf-0e696d2e6beb",
   "metadata": {},
   "outputs": [
    {
     "data": {
      "text/plain": [
       "2020-01-01 00:00:00    1\n",
       "2020-01-01 01:15:00    2\n",
       "2020-01-01 02:30:00    3\n",
       "2020-01-01 03:45:00    4\n",
       "Freq: 75min, dtype: int64"
      ]
     },
     "execution_count": 46,
     "metadata": {},
     "output_type": "execute_result"
    }
   ],
   "source": [
    "ts.resample(\"1h15min\").sum()\n"
   ]
  },
  {
   "cell_type": "markdown",
   "id": "f24d554a-987e-4846-963e-78583a972003",
   "metadata": {},
   "source": [
    "#### Upsampling"
   ]
  },
  {
   "cell_type": "code",
   "execution_count": 51,
   "id": "c117bf1d-cc09-4396-861b-5a8cc25ba9c5",
   "metadata": {},
   "outputs": [
    {
     "data": {
      "text/plain": [
       "2020-01-01 00:00:00    0.0\n",
       "2020-01-01 00:45:00    1.0\n",
       "2020-01-01 01:30:00    2.0\n",
       "2020-01-01 02:15:00    NaN\n",
       "2020-01-01 03:00:00    3.0\n",
       "2020-01-01 03:45:00    4.0\n",
       "Freq: 45min, dtype: float64"
      ]
     },
     "execution_count": 51,
     "metadata": {},
     "output_type": "execute_result"
    }
   ],
   "source": [
    "ts.resample(\"45min\").mean()"
   ]
  },
  {
   "cell_type": "code",
   "execution_count": 53,
   "id": "73f43ecf-89bf-40bd-aa6d-669c66070cc9",
   "metadata": {},
   "outputs": [
    {
     "data": {
      "text/plain": [
       "2020-01-01 00:00:00    0.0\n",
       "2020-01-01 00:45:00    1.0\n",
       "2020-01-01 01:30:00    2.0\n",
       "2020-01-01 02:15:00    0.0\n",
       "2020-01-01 03:00:00    3.0\n",
       "2020-01-01 03:45:00    4.0\n",
       "Freq: 45min, dtype: float64"
      ]
     },
     "execution_count": 53,
     "metadata": {},
     "output_type": "execute_result"
    }
   ],
   "source": [
    "ts.resample(\"45min\").mean().fillna(0.0)\n"
   ]
  },
  {
   "cell_type": "code",
   "execution_count": 67,
   "id": "7e094ef7-b680-4587-8904-e772d5b4f9a0",
   "metadata": {},
   "outputs": [
    {
     "name": "stdout",
     "output_type": "stream",
     "text": [
      "2025-07-04 21:12:40.904226\n",
      "Month String: 07\n"
     ]
    }
   ],
   "source": [
    "from datetime import datetime\n",
    "\n",
    "# current dateTime\n",
    "now = datetime.now()\n",
    "print(now)\n",
    "\n",
    "\n",
    "# Month\n",
    "month = now.strftime(\"%m\")\n",
    "print('Month String:', month)"
   ]
  },
  {
   "cell_type": "code",
   "execution_count": 69,
   "id": "eb9ef3e2-8caf-402a-a4e9-ff738df1a898",
   "metadata": {},
   "outputs": [
    {
     "name": "stdout",
     "output_type": "stream",
     "text": [
      "Date String: 04/07/2025\n",
      "Time String: 21:12:40\n",
      "Year String: 2025\n"
     ]
    }
   ],
   "source": [
    "# convert to date String\n",
    "date = now.strftime(\"%d/%m/%Y\")\n",
    "print('Date String:', date)\n",
    "\n",
    "# convert to time String\n",
    "time = now.strftime(\"%H:%M:%S\")\n",
    "print('Time String:', time)\n",
    "\n",
    "# year\n",
    "year = now.strftime(\"%Y\")\n",
    "print('Year String:', year)\n"
   ]
  },
  {
   "cell_type": "code",
   "execution_count": 73,
   "id": "7a0693d7-a2e4-4dd4-8cef-b9fb9986f964",
   "metadata": {},
   "outputs": [
    {
     "name": "stdout",
     "output_type": "stream",
     "text": [
      "Fri 07 25\n",
      "Friday 07 2025\n"
     ]
    }
   ],
   "source": [
    "# Format: Abbreviated weekday, month, 2-digit year\n",
    "f_1 = now.strftime(\"%a %m %y\")\n",
    "print(f_1)\n",
    "\n",
    "# Format: Full weekday, full year\n",
    "f_2 = now.strftime(\"%A %m %Y\")\n",
    "print(f_2)\n"
   ]
  },
  {
   "cell_type": "code",
   "execution_count": 71,
   "id": "951d8fcc-bfbe-49cc-b6ec-a07c1ab19381",
   "metadata": {},
   "outputs": [
    {
     "data": {
      "text/plain": [
       "\u001b[1;31mDocstring:\u001b[0m format -> strftime() style string.\n",
       "\u001b[1;31mType:\u001b[0m      builtin_function_or_method"
      ]
     },
     "metadata": {},
     "output_type": "display_data"
    }
   ],
   "source": [
    "now.strftime?"
   ]
  },
  {
   "cell_type": "markdown",
   "id": "413faca5-4dad-4dae-8321-e32f738f4914",
   "metadata": {
    "id": "413faca5-4dad-4dae-8321-e32f738f4914"
   },
   "source": [
    "## __4. Categorical Data Handling__"
   ]
  },
  {
   "cell_type": "markdown",
   "id": "412f361a-e782-4cf1-9077-24bf22df04f8",
   "metadata": {
    "id": "412f361a-e782-4cf1-9077-24bf22df04f8"
   },
   "source": [
    "### __4.1 Creating a Categorical Variable__\n",
    "Pandas provides the categorical class to create a categorical variable. Categorical variables are useful when dealing with data that can be divided into distinct, non-numeric categories."
   ]
  },
  {
   "cell_type": "code",
   "execution_count": 75,
   "id": "8fa9bf49-c928-4e3c-b71a-c4fd646affe3",
   "metadata": {
    "colab": {
     "base_uri": "https://localhost:8080/"
    },
    "executionInfo": {
     "elapsed": 846,
     "status": "ok",
     "timestamp": 1716223228222,
     "user": {
      "displayName": "Ashish Jangid",
      "userId": "15170006874299393728"
     },
     "user_tz": -330
    },
    "id": "8fa9bf49-c928-4e3c-b71a-c4fd646affe3",
    "outputId": "5a4fe493-ac08-45ac-83bf-467b8fa78bc4"
   },
   "outputs": [
    {
     "name": "stdout",
     "output_type": "stream",
     "text": [
      "['Low', 'Medium', 'High', 'Low', 'High']\n",
      "Categories (3, object): ['Low' < 'Medium' < 'High']\n"
     ]
    }
   ],
   "source": [
    "import pandas as pd\n",
    "\n",
    "# Creating a categorical variable\n",
    "categories = ['Low', 'Medium', 'High']\n",
    "values = ['Low', 'Medium', 'High', 'Low', 'High']\n",
    "cat_variable = pd.Categorical(values, categories=categories, ordered=True)\n",
    "print(cat_variable)\n"
   ]
  },
  {
   "cell_type": "markdown",
   "id": "a3bade92-7a3f-4cda-8a44-096dfc52ebb1",
   "metadata": {
    "id": "a3bade92-7a3f-4cda-8a44-096dfc52ebb1"
   },
   "source": [
    "### __4.2 Counting Occurrences of Each Category__\n",
    "The value_counts() method is used to count the occurrences of each category in a categorical column of a DataFrame."
   ]
  },
  {
   "cell_type": "code",
   "execution_count": 77,
   "id": "cb152b53-38f2-4c3d-a05c-0a2abc1bfc22",
   "metadata": {
    "colab": {
     "base_uri": "https://localhost:8080/"
    },
    "executionInfo": {
     "elapsed": 596,
     "status": "ok",
     "timestamp": 1716223231542,
     "user": {
      "displayName": "Ashish Jangid",
      "userId": "15170006874299393728"
     },
     "user_tz": -330
    },
    "id": "cb152b53-38f2-4c3d-a05c-0a2abc1bfc22",
    "outputId": "a2f233e1-896b-48a4-a7bc-1bc95b793a8f"
   },
   "outputs": [
    {
     "name": "stdout",
     "output_type": "stream",
     "text": [
      "Category\n",
      "A    4\n",
      "B    2\n",
      "C    1\n",
      "Name: count, dtype: int64\n"
     ]
    }
   ],
   "source": [
    "# Assuming 'df' is your DataFrame with a 'Category' column\n",
    "df = pd.DataFrame({'Category': ['A', 'B', 'A', 'C', 'B', 'A', 'A']})\n",
    "\n",
    "# Counting occurrences of each category\n",
    "category_counts = df['Category'].value_counts()\n",
    "print(category_counts)\n"
   ]
  },
  {
   "cell_type": "markdown",
   "id": "c649182d-5d19-4547-adf2-aebbffefc357",
   "metadata": {
    "id": "c649182d-5d19-4547-adf2-aebbffefc357"
   },
   "source": [
    "### __4.3 Creating Dummy Variables__\n",
    "\n",
    "When working with machine learning models or statistical analyses, creating dummy variables is often necessary to represent categorical data numerically. The get_dummies function creates binary columns for each category, effectively converting categorical data into a numerical format."
   ]
  },
  {
   "cell_type": "code",
   "execution_count": 31,
   "id": "83965746-dca8-4c1c-897b-8e5082a7f88a",
   "metadata": {
    "colab": {
     "base_uri": "https://localhost:8080/"
    },
    "executionInfo": {
     "elapsed": 5,
     "status": "ok",
     "timestamp": 1716223234313,
     "user": {
      "displayName": "Ashish Jangid",
      "userId": "15170006874299393728"
     },
     "user_tz": -330
    },
    "id": "83965746-dca8-4c1c-897b-8e5082a7f88a",
    "outputId": "6419dcb0-85fd-40ed-a0c7-be848555cf42"
   },
   "outputs": [
    {
     "name": "stdout",
     "output_type": "stream",
     "text": [
      "   Pre_A  Pre_B  Pre_C  Pre_D\n",
      "0   True  False  False  False\n",
      "1  False   True  False  False\n",
      "2   True  False  False  False\n",
      "3  False  False   True  False\n",
      "4  False   True  False  False\n",
      "5   True  False  False  False\n",
      "6  False  False  False   True\n"
     ]
    }
   ],
   "source": [
    "# Assuming 'df' is your DataFrame with a 'Category' column\n",
    "df = pd.DataFrame({'Category': ['A', 'B', 'A', 'C', 'B', 'A','D']})\n",
    "\n",
    "# Creating dummy variables for categorical data\n",
    "dummy_variables = pd.get_dummies(df['Category'], prefix='Pre')\n",
    "print(dummy_variables)\n"
   ]
  },
  {
   "cell_type": "markdown",
   "id": "91c6a672-361e-44a5-8e37-b922ab856d1b",
   "metadata": {
    "id": "91c6a672-361e-44a5-8e37-b922ab856d1b"
   },
   "source": [
    "### __4.4 Label Encoding__\n",
    "\n",
    "Another way to handle categorical data is through label encoding, where each category is assigned a unique numerical label. This is useful in scenarios where ordinal relationships exist between categories."
   ]
  },
  {
   "cell_type": "code",
   "execution_count": 29,
   "id": "1de03cd5-8f37-4b90-8fea-2a568f044c31",
   "metadata": {
    "colab": {
     "base_uri": "https://localhost:8080/"
    },
    "executionInfo": {
     "elapsed": 591,
     "status": "ok",
     "timestamp": 1716223237014,
     "user": {
      "displayName": "Ashish Jangid",
      "userId": "15170006874299393728"
     },
     "user_tz": -330
    },
    "id": "1de03cd5-8f37-4b90-8fea-2a568f044c31",
    "outputId": "66eabd55-f512-4985-eb37-b9a3b422139f"
   },
   "outputs": [
    {
     "name": "stdout",
     "output_type": "stream",
     "text": [
      "  Category  Category_LabelEncoded\n",
      "0        A                      0\n",
      "1        B                      1\n",
      "2        A                      0\n",
      "3        C                      2\n",
      "4        B                      1\n",
      "5        A                      0\n"
     ]
    }
   ],
   "source": [
    "# Assuming 'df' is your DataFrame with a 'Category' column\n",
    "df = pd.DataFrame({'Category': ['A', 'B', 'A', 'C', 'B', 'A']})\n",
    "\n",
    "# Label Encoding\n",
    "df['Category_LabelEncoded'] = df['Category'].astype('category').cat.codes\n",
    "print(df[['Category', 'Category_LabelEncoded']])\n"
   ]
  },
  {
   "cell_type": "markdown",
   "id": "efafab3f-06c1-4da1-8b5f-a517452fc08c",
   "metadata": {
    "id": "efafab3f-06c1-4da1-8b5f-a517452fc08c"
   },
   "source": [
    "# __Assisted Practice__"
   ]
  },
  {
   "cell_type": "markdown",
   "id": "b4fcddab-0c80-43c2-9075-8a9d1f9c1ecc",
   "metadata": {
    "id": "b4fcddab-0c80-43c2-9075-8a9d1f9c1ecc"
   },
   "source": [
    "## __Problem Statement:__\n",
    "Analyze the housing dataset with a focus on handling date and categorical data to gain insights into house sales over time and the influence of house characteristics on its price."
   ]
  },
  {
   "cell_type": "markdown",
   "id": "35cb5172-5c1c-427f-80cc-70e1ef9aa53c",
   "metadata": {
    "id": "35cb5172-5c1c-427f-80cc-70e1ef9aa53c",
    "tags": []
   },
   "source": [
    "## __Steps to Perform:__\n",
    "- Convert the __YearBuilt__ and __YearRemodAdd__ columns to datetime format (if not converted)\n",
    "- Extract useful components from the date like the year, month, or day\n",
    "- Calculate the time difference between the year the house was built and the year it was remodeled\n",
    "- Perform necessary arithmetic operations\n",
    "- Count the number of occurrences of each category in categorical features\n",
    "- Create dummy variables for categorical variables\n"
   ]
  },
  {
   "cell_type": "code",
   "execution_count": 58,
   "id": "3f61655a-97ef-495e-8d83-966ac5b07ec2",
   "metadata": {
    "id": "3f61655a-97ef-495e-8d83-966ac5b07ec2"
   },
   "outputs": [
    {
     "name": "stdout",
     "output_type": "stream",
     "text": [
      "[[['HelloWelcome' 'WorldLearners']]]\n"
     ]
    }
   ],
   "source": [
    "import numpy as np\n",
    "x = np.array([[['Hello','World']]])\n",
    "y = np.array([['Welcome', 'Learners']])\n",
    "print(np.char.add(x,y))"
   ]
  },
  {
   "cell_type": "markdown",
   "id": "05422768-57f8-4bb5-8de2-03ad8492b566",
   "metadata": {},
   "source": [
    "## Timezone Coversion"
   ]
  },
  {
   "cell_type": "code",
   "execution_count": 5,
   "id": "535b18bc-24b1-439d-9b81-dcddbcc32020",
   "metadata": {},
   "outputs": [
    {
     "name": "stdout",
     "output_type": "stream",
     "text": [
      "DataFrame:\n",
      "                           Weight    Name  Age\n",
      "2010-10-09 08:45:00-05:00      45     Sam   14\n",
      "2010-10-09 09:45:00-05:00      88  Andrea   25\n",
      "2010-10-09 10:45:00-05:00      56    Alex   55\n",
      "2010-10-09 11:45:00-05:00      15   Robin    8\n",
      "2010-10-09 12:45:00-05:00      71     Kia   21\n",
      "\n",
      "DataFrame after timezone conversion:\n",
      "                           Weight    Name  Age\n",
      "2010-10-09 15:45:00+02:00      45     Sam   14\n",
      "2010-10-09 16:45:00+02:00      88  Andrea   25\n",
      "2010-10-09 17:45:00+02:00      56    Alex   55\n",
      "2010-10-09 18:45:00+02:00      15   Robin    8\n",
      "2010-10-09 19:45:00+02:00      71     Kia   21\n"
     ]
    }
   ],
   "source": [
    "# importing pandas as pd\n",
    "import pandas as pd\n",
    "\n",
    "# Creating the DataFrame\n",
    "df = pd.DataFrame({'Weight': [45, 88, 56, 15, 71],\n",
    "                   'Name': ['Sam', 'Andrea', 'Alex', 'Robin', 'Kia'],\n",
    "                   'Age': [14, 25, 55, 8, 21]})\n",
    "\n",
    "# Create the datetime index\n",
    "index_ = pd.date_range('2010-10-09 08:45', periods=5, freq='h', tz='US/Central')\n",
    "\n",
    "# Set the datetime index\n",
    "df.index = index_\n",
    "\n",
    "# Print the DataFrame\n",
    "print(\"DataFrame:\")\n",
    "print(df)\n",
    "\n",
    "# Convert the timezone to 'Europe/Berlin'\n",
    "df = df.tz_convert(tz='Europe/Berlin')\n",
    "\n",
    "# Print the DataFrame after timezone conversion\n",
    "print(\"\\nDataFrame after timezone conversion:\")\n",
    "print(df)"
   ]
  },
  {
   "cell_type": "code",
   "execution_count": 9,
   "id": "60d56d46-807e-40c6-a1a9-23e5d43520c3",
   "metadata": {},
   "outputs": [
    {
     "name": "stdout",
     "output_type": "stream",
     "text": [
      "Day 1   2012-12-31 07:00:00+01:00\n",
      "Day 2   2013-01-01 07:00:00+01:00\n",
      "Day 3   2013-01-02 07:00:00+01:00\n",
      "Day 4   2013-01-03 07:00:00+01:00\n",
      "Day 5   2013-01-04 07:00:00+01:00\n",
      "dtype: datetime64[ns, Europe/Berlin]\n"
     ]
    }
   ],
   "source": [
    "import pandas as pd \n",
    "sr = pd.Series(pd.date_range('2012-12-31 00:00', periods = 5, freq = 'D', \n",
    "                            tz = 'US/Central')) \n",
    "idx = ['Day 1', 'Day 2', 'Day 3', 'Day 4', 'Day 5'] \n",
    "sr.index = idx \n",
    "result = sr.dt.tz_convert(tz = 'Europe/Berlin') \n",
    "print(result)"
   ]
  },
  {
   "cell_type": "code",
   "execution_count": 11,
   "id": "c303a9a6-a6b1-4aaf-9705-9e51c9edd983",
   "metadata": {},
   "outputs": [
    {
     "name": "stdout",
     "output_type": "stream",
     "text": [
      "Day 1   2012-12-31 11:30:00+05:30\n",
      "Day 2   2013-01-01 11:30:00+05:30\n",
      "Day 3   2013-01-02 11:30:00+05:30\n",
      "Day 4   2013-01-03 11:30:00+05:30\n",
      "Day 5   2013-01-04 11:30:00+05:30\n",
      "dtype: datetime64[ns, Asia/Calcutta]\n"
     ]
    }
   ],
   "source": [
    "# convert to 'Asia / Calcutta' \n",
    "result = sr.dt.tz_convert(tz = 'Asia/Calcutta') \n",
    "  \n",
    "# print the result \n",
    "print(result) "
   ]
  }
 ],
 "metadata": {
  "colab": {
   "provenance": []
  },
  "kernelspec": {
   "display_name": "Python 3 (ipykernel)",
   "language": "python",
   "name": "python3"
  },
  "language_info": {
   "codemirror_mode": {
    "name": "ipython",
    "version": 3
   },
   "file_extension": ".py",
   "mimetype": "text/x-python",
   "name": "python",
   "nbconvert_exporter": "python",
   "pygments_lexer": "ipython3",
   "version": "3.12.7"
  }
 },
 "nbformat": 4,
 "nbformat_minor": 5
}
