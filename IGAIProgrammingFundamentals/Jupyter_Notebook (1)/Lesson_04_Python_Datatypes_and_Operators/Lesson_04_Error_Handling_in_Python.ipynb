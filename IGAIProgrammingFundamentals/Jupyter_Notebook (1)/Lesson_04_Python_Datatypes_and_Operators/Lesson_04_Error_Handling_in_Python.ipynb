{
  "nbformat": 4,
  "nbformat_minor": 0,
  "metadata": {
    "colab": {
      "provenance": []
    },
    "kernelspec": {
      "name": "python3",
      "display_name": "Python 3"
    },
    "language_info": {
      "name": "python"
    }
  },
  "cells": [
    {
      "cell_type": "markdown",
      "source": [
        "## __Lesson 04__"
      ],
      "metadata": {
        "id": "Cb1wwjfRoEUK"
      }
    },
    {
      "cell_type": "markdown",
      "source": [
        "## __Demo: Error Handling in Python__\n",
        "__Scenario:__\n",
        "\n",
        "We will create a program that asks the user to enter a file name. The program will try to open the file and read its contents and display them. If the file does not exist, the program will catch the error and inform the user that the file was not found. Regardless of whether the file was found or not, the program will always close the file at the end."
      ],
      "metadata": {
        "id": "PEEuwWPlk-Mj"
      }
    },
    {
      "cell_type": "markdown",
      "source": [
        "- __try__ block: Attempts to open the file and read it\n",
        "- __except FileNotFoundError:__ Catches the error when the file doesn't exist and handles it gracefully\n",
        "- __finally__ block: Ensures that the file is closed if it was opened or informs the user if the file was never opened\n"
      ],
      "metadata": {
        "id": "jkdE0Fr6mEsn"
      }
    },
    {
      "cell_type": "code",
      "source": [
        "def file_demo():\n",
        "    try:\n",
        "        # Ask the user for the file name\n",
        "        file_name = input(\"Enter the file name: \")\n",
        "\n",
        "        # Try to open the file and read its content\n",
        "        file = open(file_name, 'r')\n",
        "        content = file.read()\n",
        "        print(\"File content:\")\n",
        "        print(content)\n",
        "\n",
        "    except FileNotFoundError:\n",
        "        # If the file is not found, this block runs\n",
        "        print(\"Error: File not found.\")\n",
        "\n",
        "    finally:\n",
        "        # This block runs regardless of whether an error occurred\n",
        "        print(\"Closing file if open.\")\n",
        "        try:\n",
        "            file.close()\n",
        "        except:\n",
        "            print(\"File was never opened.\")\n",
        "\n",
        "# Call the demo function\n",
        "file_demo()\n"
      ],
      "metadata": {
        "id": "yL16Y10IQQZ0",
        "colab": {
          "base_uri": "https://localhost:8080/"
        },
        "outputId": "6195aaff-f3f3-4845-b11e-dd503a9ad605"
      },
      "execution_count": null,
      "outputs": [
        {
          "output_type": "stream",
          "name": "stdout",
          "text": [
            "Enter the file name: qwerty\n",
            "Error: File not found.\n",
            "Closing file if open.\n",
            "File was never opened.\n"
          ]
        }
      ]
    },
    {
      "cell_type": "markdown",
      "source": [
        "### __How to Use the Demo:__\n",
        "__Run the code__\n",
        "\n",
        "__Case 1:__ When the user inputs an existing file name (For example, example.txt):\n",
        "\n",
        "- The program will read and display the file's content.\n",
        "- The program will close the file successfully and print the message \"Closing file if open.\"\n",
        "\n",
        "__Case 2:__ When the user inputs a non-existent file name (For example, nonexistent.txt):\n",
        "\n",
        "- The program will catch the __FileNotFoundError__ and display \"Error: File not found.\"\n",
        "- The program will attempt to close the file, but since the file was never opened, the __finally__ block will handle that by printing \"File was never opened.\""
      ],
      "metadata": {
        "id": "ho7MQa8nleY-"
      }
    }
  ]
}