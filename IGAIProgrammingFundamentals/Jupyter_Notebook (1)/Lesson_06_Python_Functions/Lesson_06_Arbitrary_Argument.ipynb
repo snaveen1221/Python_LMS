{
  "cells": [
    {
      "cell_type": "markdown",
      "id": "8d66e601-ea2d-41f6-93a5-29901ab8cddc",
      "metadata": {
        "id": "8d66e601-ea2d-41f6-93a5-29901ab8cddc"
      },
      "source": [
        "# __Arbitrary Arguments__"
      ]
    },
    {
      "cell_type": "markdown",
      "id": "5d3e36b7-691b-4cdd-aab4-aa61623cc027",
      "metadata": {
        "id": "5d3e36b7-691b-4cdd-aab4-aa61623cc027"
      },
      "source": [
        "### __Non-keyword arbitrary argument(*args)__\n",
        "\n",
        "- The function total is designed to accept a variable number of non-keyword arguments using __*args__.\n",
        "- The __*args__ parameter allows the function to take any number of arguments, which are passed as a tuple.\n",
        "- You can then iterate over them using a __for__ loop."
      ]
    },
    {
      "cell_type": "code",
      "execution_count": null,
      "id": "740992df-4181-440b-8496-0c0410a2ad85",
      "metadata": {
        "id": "740992df-4181-440b-8496-0c0410a2ad85",
        "outputId": "6535f9d2-1004-4820-a81f-82424f6aa26a"
      },
      "outputs": [
        {
          "name": "stdout",
          "output_type": "stream",
          "text": [
            "90\n"
          ]
        }
      ],
      "source": [
        "# Define the function 'total' which takes a variable number of non-keyword arguments\n",
        "def total(*args):\n",
        "    # Initialize a variable 'tot' to store the total\n",
        "    tot = 0\n",
        "    # Iterate over the arguments and add each to 'tot'\n",
        "    for n in args:\n",
        "        tot += n\n",
        "    # Print the total\n",
        "    print(tot)\n",
        "\n",
        "# Call the 'total' function with two arguments: 23 and 67\n",
        "total(23, 67)"
      ]
    },
    {
      "cell_type": "markdown",
      "id": "142642ff-0a2d-451b-abc6-22b04e772230",
      "metadata": {
        "id": "142642ff-0a2d-451b-abc6-22b04e772230"
      },
      "source": [
        "- This function call passes five numbers to the function, and the function sums them."
      ]
    },
    {
      "cell_type": "code",
      "execution_count": null,
      "id": "43b78a00-f64e-4179-9933-cfa0917efcf4",
      "metadata": {
        "id": "43b78a00-f64e-4179-9933-cfa0917efcf4",
        "outputId": "0deeba17-5afb-45a1-8cf8-06a04a8a23fe"
      },
      "outputs": [
        {
          "name": "stdout",
          "output_type": "stream",
          "text": [
            "270\n"
          ]
        }
      ],
      "source": [
        "# Call the 'total' function with five arguments: 90, 100, 10, 30, 40\n",
        "total(90, 100, 10, 30, 40)"
      ]
    },
    {
      "cell_type": "markdown",
      "id": "0dc54aa8-fdfb-41fe-b030-8eb6a06489ec",
      "metadata": {
        "id": "0dc54aa8-fdfb-41fe-b030-8eb6a06489ec"
      },
      "source": [
        "### __Keyword arbitrary argument__\n",
        "\n",
        "- The function information is designed to accept a variable number of keyword arguments using __**kwargs__.\n",
        "- The __**kwargs__ parameter allows the function to take any number of keyword arguments.\n",
        "- These arguments are passed as a dictionary, where the keys are the parameter names and the values are the corresponding argument values.\n",
        "- The function uses a __for__ loop to iterate over the dictionary keys and prints each key-value pair.\n",
        "\n",
        "\n"
      ]
    },
    {
      "cell_type": "code",
      "execution_count": null,
      "id": "a58ab063-985f-4e6e-b46f-5c1f91a1d194",
      "metadata": {
        "id": "a58ab063-985f-4e6e-b46f-5c1f91a1d194",
        "outputId": "449571d7-1ad3-4faf-ebed-c1c124192b52"
      },
      "outputs": [
        {
          "name": "stdout",
          "output_type": "stream",
          "text": [
            "name : John Davis\n",
            "age : 34\n"
          ]
        }
      ],
      "source": [
        "# Define the function 'information' which takes a variable number of keyword arguments\n",
        "def information(**kwargs):\n",
        "    # Iterate over the keyword arguments and print each key-value pair\n",
        "    for key in kwargs.keys():\n",
        "        print(key, \":\", kwargs[key])\n",
        "\n",
        "# Call the 'information' function with 'name' and 'age' as keyword arguments\n",
        "information(name = 'John Davis', age = 34)"
      ]
    },
    {
      "cell_type": "markdown",
      "id": "97224d8b-f2a8-4f6e-a817-951f6ed17371",
      "metadata": {
        "id": "97224d8b-f2a8-4f6e-a817-951f6ed17371"
      },
      "source": [
        "- This function call passes four keyword arguments: name, age, city, and country.\n",
        "- The function prints the key-value pairs for all the arguments."
      ]
    },
    {
      "cell_type": "code",
      "execution_count": null,
      "id": "2bca530a-6b11-4b0c-813d-c97946342d87",
      "metadata": {
        "id": "2bca530a-6b11-4b0c-813d-c97946342d87",
        "outputId": "e866663d-f150-4398-f9b4-212567f9ab2a"
      },
      "outputs": [
        {
          "name": "stdout",
          "output_type": "stream",
          "text": [
            "name : John Davis\n",
            "age : 34\n",
            "city : London\n",
            "country : UK\n"
          ]
        }
      ],
      "source": [
        "# Call the 'information' function with multiple keyword arguments\n",
        "information(name = 'John Davis', age = 34, city = 'London', country  = 'UK')"
      ]
    }
  ],
  "metadata": {
    "kernelspec": {
      "display_name": "Python 3 [3.10]",
      "language": "python",
      "name": "python3"
    },
    "language_info": {
      "codemirror_mode": {
        "name": "ipython",
        "version": 3
      },
      "file_extension": ".py",
      "mimetype": "text/x-python",
      "name": "python",
      "nbconvert_exporter": "python",
      "pygments_lexer": "ipython3",
      "version": "3.10.2"
    },
    "colab": {
      "provenance": []
    }
  },
  "nbformat": 4,
  "nbformat_minor": 5
}