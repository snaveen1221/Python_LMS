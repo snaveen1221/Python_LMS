{
  "cells": [
    {
      "cell_type": "markdown",
      "id": "100015ba-9f92-4617-8d7e-c24569147403",
      "metadata": {
        "id": "100015ba-9f92-4617-8d7e-c24569147403"
      },
      "source": [
        "# __Scope of Variables__"
      ]
    },
    {
      "cell_type": "markdown",
      "id": "f3fb9cdc-bb35-4fec-825b-c15389746ac7",
      "metadata": {
        "id": "f3fb9cdc-bb35-4fec-825b-c15389746ac7"
      },
      "source": [
        "### __Global variable__\n",
        "- In Python, a global variable is defined outside any function and can be accessed throughout the code.\n",
        "- Global variables are declared outside of functions and can be accessed from anywhere in the program.\n",
        "- For example, the value of the variable var is set to 10, and it can be printed directly."
      ]
    },
    {
      "cell_type": "code",
      "execution_count": null,
      "id": "535f0ab9-6872-4f57-affc-bb195ac48065",
      "metadata": {
        "id": "535f0ab9-6872-4f57-affc-bb195ac48065",
        "outputId": "f01ed5ce-06c3-410d-d05d-3300c69fd539"
      },
      "outputs": [
        {
          "name": "stdout",
          "output_type": "stream",
          "text": [
            "10\n"
          ]
        }
      ],
      "source": [
        "# Define a global variable 'var'\n",
        "var = 10\n",
        "# Print the global variable 'var'\n",
        "print(var)"
      ]
    },
    {
      "cell_type": "markdown",
      "id": "7c04041a-9412-41e2-83f3-ed26465f2685",
      "metadata": {
        "id": "7c04041a-9412-41e2-83f3-ed26465f2685"
      },
      "source": [
        "### __Local variables__\n",
        "- A local variable is defined within a function and can only be accessed within that function.\n",
        "- For instance, the variable inp is defined globally and passed to the function foo.\n",
        "- Inside the function, lc is a local variable that only exists within the function.\n",
        "- The input parameter and the local variable are printed within the function."
      ]
    },
    {
      "cell_type": "code",
      "execution_count": null,
      "id": "e1cf4a6b-d161-48d9-ac96-7dbb6ad65176",
      "metadata": {
        "id": "e1cf4a6b-d161-48d9-ac96-7dbb6ad65176",
        "outputId": "01a2611d-d71b-4862-f36b-ba2892e13e20"
      },
      "outputs": [
        {
          "name": "stdout",
          "output_type": "stream",
          "text": [
            "input parameter :  45\n",
            "local value :  30\n"
          ]
        }
      ],
      "source": [
        "# Define a global variable 'inp'\n",
        "inp = 45\n",
        "\n",
        "# Define the function 'foo' which takes an argument 'inp'\n",
        "def foo(inp):\n",
        "    # Define a local variable 'lc'\n",
        "    lc = 30\n",
        "    # Print the input parameter\n",
        "    print('input parameter : ', inp)\n",
        "    # Print the local variable\n",
        "    print('local value : ', lc)\n",
        "\n",
        "# Call the 'foo' function with 45 as the argument\n",
        "foo(45)"
      ]
    },
    {
      "cell_type": "markdown",
      "id": "208dee69-ae27-4671-a36e-0592399aa81b",
      "metadata": {
        "id": "208dee69-ae27-4671-a36e-0592399aa81b"
      },
      "source": [
        "### __Calling local variable outside function__\n",
        "- Since global variables are accessible throughout the code, they can be printed or used anywhere.\n",
        "- For example, the global variable inp is printed outside of any function."
      ]
    },
    {
      "cell_type": "code",
      "execution_count": null,
      "id": "667e8748-c937-4f98-8a8f-c786688f8b9e",
      "metadata": {
        "id": "667e8748-c937-4f98-8a8f-c786688f8b9e",
        "outputId": "82891493-5bdc-40d9-f151-d57386a05097"
      },
      "outputs": [
        {
          "name": "stdout",
          "output_type": "stream",
          "text": [
            "45\n"
          ]
        }
      ],
      "source": [
        "# Print the global variable 'inp'\n",
        "print(inp)"
      ]
    },
    {
      "cell_type": "markdown",
      "id": "06c43511-2f0f-4fc3-ad9c-0e1918b1397d",
      "metadata": {
        "id": "06c43511-2f0f-4fc3-ad9c-0e1918b1397d"
      },
      "source": [
        "### __Calling global variable inside a function__\n",
        "- Global variables can be accessed inside functions without needing to pass them as arguments.\n",
        "- The function foo2 uses the global variable var (defined earlier) and calculates its square."
      ]
    },
    {
      "cell_type": "code",
      "execution_count": null,
      "id": "d63d6e43-7a38-49b6-99eb-2403d0f08b1f",
      "metadata": {
        "id": "d63d6e43-7a38-49b6-99eb-2403d0f08b1f",
        "outputId": "91557aec-6b19-413b-9f32-fcc7c44e97fc"
      },
      "outputs": [
        {
          "data": {
            "text/plain": [
              "100"
            ]
          },
          "execution_count": 5,
          "metadata": {},
          "output_type": "execute_result"
        }
      ],
      "source": [
        "# Define the function 'foo2'\n",
        "def foo2():\n",
        "    # Calculate the square of the global variable 'var'\n",
        "    square = var ** 2\n",
        "    # Return the square\n",
        "    return square\n",
        "\n",
        "# Call the 'foo2' function\n",
        "foo2()"
      ]
    },
    {
      "cell_type": "markdown",
      "id": "c7a67c6d-51c3-4eea-b8f7-4c64a427a55e",
      "metadata": {
        "id": "c7a67c6d-51c3-4eea-b8f7-4c64a427a55e"
      },
      "source": [
        "### __Local and global variable with same name__\n",
        "- If a function has a local variable with the same name as a global variable, the function will use the local variable within its scope.\n",
        "- In the function foo3, the local variable var is used.\n",
        "- Outside the function, however, the global variable var remains unchanged."
      ]
    },
    {
      "cell_type": "code",
      "execution_count": null,
      "id": "991c69de-941e-4cf3-9bed-b34761085bb0",
      "metadata": {
        "id": "991c69de-941e-4cf3-9bed-b34761085bb0",
        "outputId": "c840300b-aec8-488a-c52d-8eb42597abe4"
      },
      "outputs": [
        {
          "name": "stdout",
          "output_type": "stream",
          "text": [
            "inside function var  = 50\n",
            "outside function var = 10\n"
          ]
        }
      ],
      "source": [
        "# Define a global variable 'var'\n",
        "var = 10 # global variable\n",
        "\n",
        "# Define the function 'foo3'\n",
        "def foo3():\n",
        "    # Define a local variable 'var' with the same name as the global variable\n",
        "    var = 50 # local variable\n",
        "    # Print the local variable 'var'\n",
        "    print('inside function var  =', var)\n",
        "\n",
        "# Call the 'foo3' function\n",
        "foo3()\n",
        "# Print the global variable 'var'\n",
        "print('outside function var =', var)"
      ]
    },
    {
      "cell_type": "markdown",
      "id": "34cc64b6-3233-4638-b748-d2cbaa2f708c",
      "metadata": {
        "id": "34cc64b6-3233-4638-b748-d2cbaa2f708c"
      },
      "source": [
        "### __Creating or manipulating global variable inside a function__\n",
        "- If you need to modify a global variable inside a function, use the global keyword.\n",
        "- In the function foo4, the global keyword is used to modify the global variable var.\n",
        "- This change to the global variable is reflected both inside and outside the function."
      ]
    },
    {
      "cell_type": "code",
      "execution_count": null,
      "id": "d5b8c73d-7c96-414c-b8b7-07df515abc29",
      "metadata": {
        "id": "d5b8c73d-7c96-414c-b8b7-07df515abc29",
        "outputId": "d5666711-6f85-45a6-c617-94b74bf7cda2"
      },
      "outputs": [
        {
          "name": "stdout",
          "output_type": "stream",
          "text": [
            "before function call var = 15\n",
            "inside function var  = 75\n",
            "outside function var = 75\n"
          ]
        }
      ],
      "source": [
        "# Define a global variable 'var'\n",
        "var = 15\n",
        "\n",
        "# Print the global variable before the function call\n",
        "print('before function call var =', var)\n",
        "\n",
        "# Define the function 'foo4'\n",
        "def foo4():\n",
        "    # Declare 'var' as a global variable\n",
        "    global var\n",
        "    # Multiply the global variable 'var' by 5\n",
        "    var *= 5\n",
        "    # Print the global variable 'var' inside the function\n",
        "    print('inside function var  =', var)\n",
        "\n",
        "# Call the 'foo4' function\n",
        "foo4()\n",
        "\n",
        "# Print the global variable 'var' after the function call\n",
        "print('outside function var =', var)"
      ]
    }
  ],
  "metadata": {
    "kernelspec": {
      "display_name": "Python 3 [3.10]",
      "language": "python",
      "name": "python3"
    },
    "language_info": {
      "codemirror_mode": {
        "name": "ipython",
        "version": 3
      },
      "file_extension": ".py",
      "mimetype": "text/x-python",
      "name": "python",
      "nbconvert_exporter": "python",
      "pygments_lexer": "ipython3",
      "version": "3.10.2"
    },
    "colab": {
      "provenance": []
    }
  },
  "nbformat": 4,
  "nbformat_minor": 5
}