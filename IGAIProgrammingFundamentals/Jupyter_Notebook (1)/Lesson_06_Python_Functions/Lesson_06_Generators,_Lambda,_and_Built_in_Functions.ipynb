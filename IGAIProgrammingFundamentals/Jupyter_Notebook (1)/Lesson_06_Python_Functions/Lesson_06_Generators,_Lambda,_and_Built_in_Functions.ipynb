{
 "cells": [
  {
   "cell_type": "markdown",
   "id": "e19e349b-6820-4244-8aef-77b310c4800f",
   "metadata": {
    "id": "e19e349b-6820-4244-8aef-77b310c4800f"
   },
   "source": [
    "# __Generators, Lambda, and Built-in Functions__\n",
    "\n",
    "## __Generator functions__\n",
    "A generator function allows iteration through values one at a time, without storing all the values in memory at once. This can be useful when dealing with large datasets or when only one value at a time is needed."
   ]
  },
  {
   "cell_type": "markdown",
   "id": "bb02249b-86c9-43d8-9f99-0f7b44b42b1c",
   "metadata": {
    "id": "bb02249b-86c9-43d8-9f99-0f7b44b42b1c"
   },
   "source": [
    "### __Define a generator function__\n",
    "- This function uses yield to return values one at a time, pausing after each yield and resuming when next() is called again.\n",
    "- Each time next() is called, the function continues from where it paused, and yields the next value."
   ]
  },
  {
   "cell_type": "code",
   "execution_count": null,
   "id": "566083e7-6225-462f-91fd-2c6cf87cdf2b",
   "metadata": {
    "id": "566083e7-6225-462f-91fd-2c6cf87cdf2b"
   },
   "outputs": [],
   "source": [
    "# Define the generator function 'myGenerator'\n",
    "def myGenerator():\n",
    "    # Initialize 'n' to 1\n",
    "    n = 1\n",
    "    # Print a message indicating the first iteration\n",
    "    print('First Iteration')\n",
    "    # Yield a string with the current value of 'n'\n",
    "    yield 'Number 1 : n = ' + str(n)\n",
    "\n",
    "    # Increment 'n' by 2\n",
    "    n += 2\n",
    "    # Print a message indicating the second iteration\n",
    "    print('Second Iteration')\n",
    "    # Yield a string with the current value of 'n'\n",
    "    yield 'Number 2 : n = ' + str(n)\n",
    "\n",
    "    # Increment 'n' by 3\n",
    "    n += 3\n",
    "    # Print a message indicating the third iteration\n",
    "    print('Third Iteration')\n",
    "    # Yield a string with the current value of 'n'\n",
    "    yield 'Number 3 : n = ' + str(n)"
   ]
  },
  {
   "cell_type": "markdown",
   "id": "b2099c61-c5da-4727-bcda-c307c32d0452",
   "metadata": {
    "id": "b2099c61-c5da-4727-bcda-c307c32d0452"
   },
   "source": [
    "## __Call the Generator__\n",
    "### __Way 1: Using next() to Get Values__\n",
    "- The next() retrieves the next value from the generator. Each call to next() continues from the last yield statement.\n",
    "- This method allows values to be fetched one at a time."
   ]
  },
  {
   "cell_type": "code",
   "execution_count": null,
   "id": "cf3d21af-17ec-4d5e-bb51-4eb49b31c4a0",
   "metadata": {
    "id": "cf3d21af-17ec-4d5e-bb51-4eb49b31c4a0",
    "outputId": "6dd534f6-3f20-4aa9-ba57-f0ed48dbe750"
   },
   "outputs": [
    {
     "name": "stdout",
     "output_type": "stream",
     "text": [
      "First Iteration\n",
      "Number 1 : n = 1\n"
     ]
    }
   ],
   "source": [
    "# Create a generator object by calling 'myGenerator'\n",
    "gen = myGenerator()\n",
    "\n",
    "# Print the first yielded value from the generator\n",
    "print(next(gen))"
   ]
  },
  {
   "cell_type": "code",
   "execution_count": null,
   "id": "65317214-825d-4db7-a1c7-b0e9aa006825",
   "metadata": {
    "id": "65317214-825d-4db7-a1c7-b0e9aa006825",
    "outputId": "bef7b536-cb15-4c10-9479-21064ed2a6a4"
   },
   "outputs": [
    {
     "name": "stdout",
     "output_type": "stream",
     "text": [
      "Second Iteration\n",
      "Number 2 : n = 3\n"
     ]
    }
   ],
   "source": [
    "# Print the second yielded value from the generator\n",
    "print(next(gen))"
   ]
  },
  {
   "cell_type": "code",
   "execution_count": null,
   "id": "44b62037-c8fa-4ebe-bcb9-9e0f3f0739d6",
   "metadata": {
    "id": "44b62037-c8fa-4ebe-bcb9-9e0f3f0739d6",
    "outputId": "85595d1c-8d10-4311-92d4-903196aff8cf"
   },
   "outputs": [
    {
     "name": "stdout",
     "output_type": "stream",
     "text": [
      "Third Iteration\n",
      "Number 3 : n = 6\n"
     ]
    }
   ],
   "source": [
    "# Print the third yielded value from the generator\n",
    "print(next(gen))"
   ]
  },
  {
   "cell_type": "markdown",
   "id": "afd7c8d0-57b9-48fc-8889-9c0bda315b32",
   "metadata": {
    "id": "afd7c8d0-57b9-48fc-8889-9c0bda315b32"
   },
   "source": [
    "### __Way 2: Using a loop to iterate through the generator__\n",
    "- A loop can be used to iterate through all yielded values from the generator."
   ]
  },
  {
   "cell_type": "code",
   "execution_count": null,
   "id": "d3ced01d-fbaf-4726-b1f0-0499f75af3ef",
   "metadata": {
    "id": "d3ced01d-fbaf-4726-b1f0-0499f75af3ef",
    "outputId": "e02fce46-5d83-4e08-f564-a9ac6eca01c1"
   },
   "outputs": [
    {
     "name": "stdout",
     "output_type": "stream",
     "text": [
      "First Iteration\n",
      "Number 1 : n = 1 \n",
      "\n",
      "Second Iteration\n",
      "Number 2 : n = 3 \n",
      "\n",
      "Third Iteration\n",
      "Number 3 : n = 6 \n",
      "\n"
     ]
    }
   ],
   "source": [
    "# Create a new generator object by calling 'myGenerator'\n",
    "gen = myGenerator()\n",
    "# Iterate over the generator and print each yielded value\n",
    "for value in gen :\n",
    "    print(value, '\\n')"
   ]
  },
  {
   "cell_type": "markdown",
   "id": "d35e5131-640f-41b7-90f1-44f7a40fd8de",
   "metadata": {
    "id": "d35e5131-640f-41b7-90f1-44f7a40fd8de"
   },
   "source": [
    "## __Built-in functions__\n",
    "- Python provides powerful built-in functions such as map(), filter(), and reduce() to work with lists and data processing."
   ]
  },
  {
   "cell_type": "code",
   "execution_count": null,
   "id": "19b368b2-234e-40dc-b324-cb834a4ea726",
   "metadata": {
    "id": "19b368b2-234e-40dc-b324-cb834a4ea726"
   },
   "outputs": [],
   "source": [
    "# Print a list of all built-in functions and variables\n",
    "print(dir(__builtins__))"
   ]
  },
  {
   "cell_type": "markdown",
   "id": "fb3979cd-9373-4029-93a9-42cb9af2bd24",
   "metadata": {
    "id": "fb3979cd-9373-4029-93a9-42cb9af2bd24"
   },
   "source": [
    "### __map function__\n",
    "- The map() function applies the conversion function Fahrenheit to each temperature in the list temp."
   ]
  },
  {
   "cell_type": "code",
   "execution_count": null,
   "id": "9df3ad08-d483-4510-87f6-6b9c291f0177",
   "metadata": {
    "id": "9df3ad08-d483-4510-87f6-6b9c291f0177",
    "outputId": "41538a4e-3a45-4dc7-97cf-078d93cbc1d0"
   },
   "outputs": [
    {
     "name": "stdout",
     "output_type": "stream",
     "text": [
      " 22.0 in degree C is equivalent to   71.6 in degree F.\n",
      " 45.3 in degree C is equivalent to  113.5 in degree F.\n",
      " 35.4 in degree C is equivalent to   95.7 in degree F.\n",
      " 40.0 in degree C is equivalent to  104.0 in degree F.\n",
      " 44.7 in degree C is equivalent to  112.5 in degree F.\n",
      " 21.5 in degree C is equivalent to   70.7 in degree F.\n"
     ]
    }
   ],
   "source": [
    "# Define a list of temperatures in Celsius\n",
    "temp = [22.0, 45.3, 35.4, 40.0, 44.7, 21.5]\n",
    "# Iterate over the list of temperatures\n",
    "for T in temp:\n",
    "    # Convert each temperature to Fahrenheit\n",
    "    f = ((9/5) * T) + 32\n",
    "    # Print the conversion result\n",
    "    print('{:5.1f} in degree C is equivalent to {:6.1f} in degree F.'.format(T,f))"
   ]
  },
  {
   "cell_type": "code",
   "execution_count": null,
   "id": "07cc17fb-b378-4b26-89b4-81263a086a9c",
   "metadata": {
    "id": "07cc17fb-b378-4b26-89b4-81263a086a9c"
   },
   "outputs": [],
   "source": [
    "# Define the function 'Fahrenheit' which converts Celsius to Fahrenheit\n",
    "def Fahrenheit(T):\n",
    "    # Return the converted temperature rounded to 1 decimal place\n",
    "    return round(((9/5) * T) + 32, 1)"
   ]
  },
  {
   "cell_type": "code",
   "execution_count": null,
   "id": "004851db-6d3e-4204-9809-344b3b316474",
   "metadata": {
    "id": "004851db-6d3e-4204-9809-344b3b316474",
    "outputId": "338731ba-00ec-4565-9e0b-1c6585b4e4ae"
   },
   "outputs": [
    {
     "name": "stdout",
     "output_type": "stream",
     "text": [
      "Temp in deg C  [22.0, 45.3, 35.4, 40.0, 44.7, 21.5]\n",
      "Temp in deg F  [71.6, 113.5, 95.7, 104.0, 112.5, 70.7]\n"
     ]
    }
   ],
   "source": [
    "# Use the 'map' function to apply 'Fahrenheit' to the list of temperatures\n",
    "results = list(map(Fahrenheit, temp))\n",
    "# Print the original list of temperatures in Celsius\n",
    "print('Temp in deg C ', temp)\n",
    "# Print the converted list of temperatures in Fahrenheit\n",
    "print('Temp in deg F ', results)"
   ]
  },
  {
   "cell_type": "markdown",
   "id": "d5cd3a16-bf64-4770-9baf-3a7be04b1b4c",
   "metadata": {
    "id": "d5cd3a16-bf64-4770-9baf-3a7be04b1b4c"
   },
   "source": [
    "### __Lambda function__\n",
    "- A  lambda function is a small, anonymous function.\n",
    "- It can be used inside map() without explicitly defining a separate function."
   ]
  },
  {
   "cell_type": "code",
   "execution_count": null,
   "id": "7e7ee294-bd46-4512-b590-12a238b2bf85",
   "metadata": {
    "id": "7e7ee294-bd46-4512-b590-12a238b2bf85",
    "outputId": "27b65c81-628c-4f4b-b270-2d942ce15324"
   },
   "outputs": [
    {
     "name": "stdout",
     "output_type": "stream",
     "text": [
      "Temp in deg C  [22.0, 45.3, 35.4, 40.0, 44.7, 21.5]\n",
      "Temp in deg F  [71.6, 113.5, 95.7, 104.0, 112.5, 70.7]\n"
     ]
    }
   ],
   "source": [
    "# Use the 'map' function with a lambda function to convert temperatures\n",
    "results = list(map(lambda T: round(((9/5) * T) + 32, 1), temp))\n",
    "# Print the original list of temperatures in Celsius\n",
    "print('Temp in deg C ', temp)\n",
    "# Print the converted list of temperatures in Fahrenheit\n",
    "print('Temp in deg F ', results)"
   ]
  },
  {
   "cell_type": "markdown",
   "id": "416192b3-a776-452b-ab8a-623bd6397549",
   "metadata": {
    "id": "416192b3-a776-452b-ab8a-623bd6397549"
   },
   "source": [
    "### __Filter function__\n",
    "- The filter() function filters only odd numbers from the list by applying a condition (n % 2 != 0)."
   ]
  },
  {
   "cell_type": "code",
   "execution_count": null,
   "id": "82870acb-c2f9-438a-a642-526f22fc9465",
   "metadata": {
    "id": "82870acb-c2f9-438a-a642-526f22fc9465",
    "outputId": "73344b4e-a513-401b-a080-57cceb81e314"
   },
   "outputs": [
    {
     "name": "stdout",
     "output_type": "stream",
     "text": [
      "[45, 21, 55, 91, 17]\n"
     ]
    }
   ],
   "source": [
    "# Define a list of numbers\n",
    "numbers = [32, 45, 62, 21, 55, 91, 88, 17 ]\n",
    "# Initialize an empty list to store odd numbers\n",
    "odd_numbers = []\n",
    "# Iterate over the list of numbers\n",
    "for n in numbers:\n",
    "    # Check if the number is odd\n",
    "    if n % 2 :\n",
    "        # Append the odd number to the list\n",
    "        odd_numbers.append(n)\n",
    "# Print the list of odd numbers\n",
    "print(odd_numbers)"
   ]
  },
  {
   "cell_type": "code",
   "execution_count": null,
   "id": "79776973-d3d0-4d09-aa42-949f513d8f5a",
   "metadata": {
    "id": "79776973-d3d0-4d09-aa42-949f513d8f5a",
    "outputId": "f5cdde9e-9da9-45d7-8bd6-d25702a6638f"
   },
   "outputs": [
    {
     "name": "stdout",
     "output_type": "stream",
     "text": [
      "[45, 21, 55, 91, 17]\n"
     ]
    }
   ],
   "source": [
    "# Define a list of numbers\n",
    "numbers = [32, 45, 62, 21, 55, 91, 88, 17 ]\n",
    "# Use the 'filter' function with a lambda function to filter odd numbers\n",
    "odd_numbers = list(filter ( lambda n : n % 2, numbers))\n",
    "# Print the list of odd numbers\n",
    "print(odd_numbers)"
   ]
  },
  {
   "cell_type": "markdown",
   "id": "f5e4c46e-e943-4127-9498-53d6fe140773",
   "metadata": {
    "id": "f5e4c46e-e943-4127-9498-53d6fe140773"
   },
   "source": [
    "### __Reduce function__\n",
    "- The reduce() function calculates the cumulative sum of all numbers in the list."
   ]
  },
  {
   "cell_type": "code",
   "execution_count": null,
   "id": "752f23ae-69e2-4745-a176-5b814fd375a7",
   "metadata": {
    "id": "752f23ae-69e2-4745-a176-5b814fd375a7",
    "outputId": "75af5f0b-f653-4299-b7d2-7cf61c444631"
   },
   "outputs": [
    {
     "name": "stdout",
     "output_type": "stream",
     "text": [
      "Total : 42\n"
     ]
    }
   ],
   "source": [
    "# Define a list of numbers\n",
    "numbers = [2,4,6,8,10,12]\n",
    "# Initialize a variable 'tot' to store the total\n",
    "tot = 0\n",
    "# Iterate over the list of numbers\n",
    "for n in numbers:\n",
    "    # Add each number to 'tot'\n",
    "    tot += n\n",
    "# Print the total sum\n",
    "print('Total :', tot)"
   ]
  },
  {
   "cell_type": "code",
   "execution_count": null,
   "id": "7000ea77-4e99-404b-a83d-20536b954b6e",
   "metadata": {
    "id": "7000ea77-4e99-404b-a83d-20536b954b6e",
    "outputId": "6fcafc53-6c6d-4975-be2e-164a856cf99f"
   },
   "outputs": [
    {
     "name": "stdout",
     "output_type": "stream",
     "text": [
      "Total =  42\n"
     ]
    }
   ],
   "source": [
    "# Import the 'reduce' function from 'functools'\n",
    "from _functools import reduce\n",
    "# Define a list of numbers\n",
    "numbers = [2,4,6,8,10,12]\n",
    "# Use the 'reduce' function with a lambda function to calculate the total sum\n",
    "result = reduce(lambda x , y : x + y, numbers)\n",
    "# Print the total sum\n",
    "print('Total = ', result)"
   ]
  }
 ],
 "metadata": {
  "colab": {
   "provenance": []
  },
  "kernelspec": {
   "display_name": "Python 3 [3.10]",
   "language": "python",
   "name": "python3"
  },
  "language_info": {
   "codemirror_mode": {
    "name": "ipython",
    "version": 3
   },
   "file_extension": ".py",
   "mimetype": "text/x-python",
   "name": "python",
   "nbconvert_exporter": "python",
   "pygments_lexer": "ipython3",
   "version": "3.10.2"
  }
 },
 "nbformat": 4,
 "nbformat_minor": 5
}
