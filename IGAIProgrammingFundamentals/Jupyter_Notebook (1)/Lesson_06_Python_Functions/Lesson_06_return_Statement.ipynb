{
  "cells": [
    {
      "cell_type": "markdown",
      "id": "9be6f3fd-bec3-4ecd-ba08-7988dc68430e",
      "metadata": {
        "id": "9be6f3fd-bec3-4ecd-ba08-7988dc68430e"
      },
      "source": [
        "# __return Statement__"
      ]
    },
    {
      "cell_type": "markdown",
      "id": "b80e51be-5249-491b-aaef-0207dd39140f",
      "metadata": {
        "id": "b80e51be-5249-491b-aaef-0207dd39140f"
      },
      "source": [
        "## __1. Without a return Statement__\n",
        "### __Define the function net_amount__\n",
        "- The function calculates the discount amount (disc) based on the percentage of the discount.\n",
        "- Next, it calculates the tax amount (tax_amnt) based on the remaining amount after applying the discount.\n",
        "- Finally, it computes the net amount (net) by adding the discounted amount and the tax amount.\n",
        "- The net amount is printed, rounded to two decimal places.\n",
        "\n"
      ]
    },
    {
      "cell_type": "code",
      "execution_count": null,
      "id": "4628fbb9-64e1-4404-929c-48da96bef0f7",
      "metadata": {
        "id": "4628fbb9-64e1-4404-929c-48da96bef0f7"
      },
      "outputs": [],
      "source": [
        "# Define the function 'net_amount' which calculates the net amount after applying tax and discount\n",
        "def net_amount(Amount, tax= 18, discount = 10):\n",
        "    # Calculate the discount amount\n",
        "    disc = (Amount * discount / 100)\n",
        "    # Calculate the tax amount on the discounted amount\n",
        "    tax_amnt = (Amount - disc) * tax / 100\n",
        "    # Calculate the net amount\n",
        "    net = (Amount - disc) + tax_amnt\n",
        "    # Print the net amount rounded to 2 decimal places\n",
        "    print(round(net, 2))"
      ]
    },
    {
      "cell_type": "markdown",
      "id": "0b042940-c6e8-4efa-b534-08b2f4e4fcd6",
      "metadata": {
        "id": "0b042940-c6e8-4efa-b534-08b2f4e4fcd6"
      },
      "source": [
        "### __Take user input__\n",
        "- The user is prompted to enter values for the bill amount, tax percentage, and discount percentage."
      ]
    },
    {
      "cell_type": "code",
      "execution_count": null,
      "id": "48cca83c-1e7f-4d30-b673-41d490fc012c",
      "metadata": {
        "id": "48cca83c-1e7f-4d30-b673-41d490fc012c",
        "outputId": "9b3f2692-8037-4f0f-c4ae-a2882a917385"
      },
      "outputs": [
        {
          "name": "stdin",
          "output_type": "stream",
          "text": [
            "Please enter the bill amount  2345\n",
            "Please enter tax percentage : 4\n",
            "Please enter discount percentage : 2\n"
          ]
        }
      ],
      "source": [
        "# Take user input for the bill amount\n",
        "amnt = float(input('Please enter the bill amount '))\n",
        "# Take user input for the tax percentage\n",
        "tax = float(input('Please enter tax percentage :'))\n",
        "# Take user input for the discount percentage\n",
        "discount = float(input('Please enter discount percentage :'))"
      ]
    },
    {
      "cell_type": "markdown",
      "id": "3ed85f41-52fd-4af4-b041-266fed1b2c1c",
      "metadata": {
        "id": "3ed85f41-52fd-4af4-b041-266fed1b2c1c"
      },
      "source": [
        "### __Call the function__\n",
        "- The function is called using the user inputs.\n",
        "- Since the function doesn’t explicitly return a value (None is returned implicitly), calling print(return_value) will output None."
      ]
    },
    {
      "cell_type": "code",
      "execution_count": null,
      "id": "5f9841a8-f9f2-47a1-a05c-2bd3b3fe80be",
      "metadata": {
        "id": "5f9841a8-f9f2-47a1-a05c-2bd3b3fe80be",
        "outputId": "9732dbe8-3b54-4255-d734-f8e890d6847a"
      },
      "outputs": [
        {
          "name": "stdout",
          "output_type": "stream",
          "text": [
            "2390.02\n"
          ]
        }
      ],
      "source": [
        "# Call the 'net_amount' function with user inputs and store the return value\n",
        "return_value = net_amount(amnt, tax, discount)"
      ]
    },
    {
      "cell_type": "code",
      "execution_count": null,
      "id": "b513f0aa-3111-4b25-afa0-3e6b204bb897",
      "metadata": {
        "id": "b513f0aa-3111-4b25-afa0-3e6b204bb897",
        "outputId": "da77d421-9a3f-47c6-f359-6e0254b8bc30"
      },
      "outputs": [
        {
          "name": "stdout",
          "output_type": "stream",
          "text": [
            "None\n"
          ]
        }
      ],
      "source": [
        "# Print the return value (None in this case because 'net_amount' does not return anything)\n",
        "print(return_value)"
      ]
    },
    {
      "cell_type": "markdown",
      "id": "5e25d8c0-5bd1-4ab1-9011-f0b7de229cd4",
      "metadata": {
        "id": "5e25d8c0-5bd1-4ab1-9011-f0b7de229cd4"
      },
      "source": [
        "## __2. Define the Function with a return Statement__\n",
        "- The main difference in this version is that instead of printing the net amount, the function returns it.\n",
        "- This allows the calling function or script to store and use the returned value as needed.\n"
      ]
    },
    {
      "cell_type": "code",
      "execution_count": null,
      "id": "d84878bb-86ac-4e96-88ac-00fc3b6ae344",
      "metadata": {
        "id": "d84878bb-86ac-4e96-88ac-00fc3b6ae344"
      },
      "outputs": [],
      "source": [
        "# Define the function 'net_amount' which calculates the net amount after applying tax and discount\n",
        "def net_amount(Amount, tax= 18, discount = 10):\n",
        "    # Calculate the discount amount\n",
        "    disc = (Amount * discount / 100)\n",
        "    # Calculate the tax amount on the discounted amount\n",
        "    tax_amnt = (Amount - disc) * tax / 100\n",
        "    # Calculate the net amount\n",
        "    net = (Amount - disc) + tax_amnt\n",
        "    # Return the net amount\n",
        "    return net"
      ]
    },
    {
      "cell_type": "markdown",
      "id": "ce0353bc-35d3-491f-9528-219d8575a6bf",
      "metadata": {
        "id": "ce0353bc-35d3-491f-9528-219d8575a6bf"
      },
      "source": [
        "- The user inputs are taken for the bill amount, tax, and discount."
      ]
    },
    {
      "cell_type": "code",
      "execution_count": null,
      "id": "92d9d9c7-6d13-4ad2-894f-f6c1631a8f20",
      "metadata": {
        "id": "92d9d9c7-6d13-4ad2-894f-f6c1631a8f20",
        "outputId": "7a489b7e-e240-49a6-f543-1116e71d1b76"
      },
      "outputs": [
        {
          "name": "stdin",
          "output_type": "stream",
          "text": [
            "Please enter the bill amount  2344\n",
            "Please enter tax percentage : 4\n",
            "Please enter discount percentage : 3\n"
          ]
        }
      ],
      "source": [
        "# Take user input for the bill amount\n",
        "amnt = float(input('Please enter the bill amount '))\n",
        "# Take user input for the tax percentage\n",
        "tax = float(input('Please enter tax percentage :'))\n",
        "# Take user input for the discount percentage\n",
        "discount = float(input('Please enter discount percentage :'))"
      ]
    },
    {
      "cell_type": "markdown",
      "id": "aef6b32c-9631-4894-99bd-cc2eda611995",
      "metadata": {
        "id": "aef6b32c-9631-4894-99bd-cc2eda611995"
      },
      "source": [
        "- Here, the return value of the function is stored in return_value and printed."
      ]
    },
    {
      "cell_type": "code",
      "execution_count": null,
      "id": "c616471c-c4a3-408b-8b54-21d675851dfc",
      "metadata": {
        "id": "c616471c-c4a3-408b-8b54-21d675851dfc",
        "outputId": "b60abae2-9d0a-46d5-b16f-38fc11f52386"
      },
      "outputs": [
        {
          "name": "stdout",
          "output_type": "stream",
          "text": [
            "Total Amount to be paid :  2364.6272\n"
          ]
        }
      ],
      "source": [
        "# Call the 'net_amount' function with user inputs and store the return value\n",
        "return_value = net_amount(amnt, tax, discount)\n",
        "\n",
        "# Print the total amount to be paid\n",
        "print('Total Amount to be paid : ', return_value)"
      ]
    }
  ],
  "metadata": {
    "kernelspec": {
      "display_name": "Python 3 [3.10]",
      "language": "python",
      "name": "python3"
    },
    "language_info": {
      "codemirror_mode": {
        "name": "ipython",
        "version": 3
      },
      "file_extension": ".py",
      "mimetype": "text/x-python",
      "name": "python",
      "nbconvert_exporter": "python",
      "pygments_lexer": "ipython3",
      "version": "3.10.2"
    },
    "colab": {
      "provenance": []
    }
  },
  "nbformat": 4,
  "nbformat_minor": 5
}