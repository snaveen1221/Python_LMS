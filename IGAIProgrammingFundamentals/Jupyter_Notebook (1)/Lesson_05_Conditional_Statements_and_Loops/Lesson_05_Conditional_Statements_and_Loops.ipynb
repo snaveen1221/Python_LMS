{
 "cells": [
  {
   "cell_type": "markdown",
   "id": "b37eb53b",
   "metadata": {
    "id": "b37eb53b"
   },
   "source": [
    "## if statement"
   ]
  },
  {
   "cell_type": "code",
   "execution_count": 1,
   "id": "3bcc1654",
   "metadata": {
    "id": "3bcc1654"
   },
   "outputs": [
    {
     "name": "stdin",
     "output_type": "stream",
     "text": [
      "Enter Nationality :  USA\n"
     ]
    }
   ],
   "source": [
    "# Prompt the user to enter their nationality\n",
    "inp = input('Enter Nationality : ')"
   ]
  },
  {
   "cell_type": "code",
   "execution_count": 2,
   "id": "1f456d4c",
   "metadata": {
    "id": "1f456d4c"
   },
   "outputs": [
    {
     "name": "stdout",
     "output_type": "stream",
     "text": [
      "Thank You!!\n"
     ]
    }
   ],
   "source": [
    "# Check if the input is 'French'\n",
    "# If the user is French, print a message in French\n",
    "if inp == \"French\":\n",
    "    print('Préférez vous parler français ?') # if block\n",
    "# Print a thank you message regardless of the nationality\n",
    "print('Thank You!!')"
   ]
  },
  {
   "cell_type": "markdown",
   "id": "4a788ba3",
   "metadata": {
    "id": "4a788ba3"
   },
   "source": [
    "## if else"
   ]
  },
  {
   "cell_type": "code",
   "execution_count": 3,
   "id": "cb71cfdc",
   "metadata": {
    "id": "cb71cfdc"
   },
   "outputs": [
    {
     "name": "stdin",
     "output_type": "stream",
     "text": [
      "Enter a number :  56\n"
     ]
    }
   ],
   "source": [
    "# Prompt the user to enter the number\n",
    "num = int(input('Enter a number : '))"
   ]
  },
  {
   "cell_type": "code",
   "execution_count": 4,
   "id": "18b04483",
   "metadata": {
    "id": "18b04483"
   },
   "outputs": [
    {
     "name": "stdout",
     "output_type": "stream",
     "text": [
      "56 is a positive number\n"
     ]
    }
   ],
   "source": [
    "if num > 0:\n",
    "    print(num, 'is a positive number')\n",
    "elif num < 0:\n",
    "    print(num, 'is a negative number')\n",
    "else:\n",
    "    print('The number is zero')"
   ]
  },
  {
   "cell_type": "markdown",
   "id": "60864126",
   "metadata": {
    "id": "60864126"
   },
   "source": [
    "## if elif"
   ]
  },
  {
   "cell_type": "code",
   "execution_count": 5,
   "id": "b169a219",
   "metadata": {
    "id": "b169a219"
   },
   "outputs": [
    {
     "name": "stdin",
     "output_type": "stream",
     "text": [
      "Please enter marks :  87\n"
     ]
    },
    {
     "name": "stdout",
     "output_type": "stream",
     "text": [
      "Grade B\n",
      "Thank you !!\n"
     ]
    }
   ],
   "source": [
    "# Prompt the user to enter the marks\n",
    "marks =  float(input('Please enter marks : '))\n",
    "if marks >=90 :\n",
    "    print('Grade A')\n",
    "elif marks >=75 :\n",
    "    print('Grade B')\n",
    "elif marks >= 55 :\n",
    "    print('Grade C')\n",
    "elif marks >= 35 :\n",
    "    print('Grade D')\n",
    "else :\n",
    "    print('Grade F')\n",
    "print('Thank you !!')"
   ]
  },
  {
   "cell_type": "markdown",
   "id": "2968abba",
   "metadata": {
    "id": "2968abba"
   },
   "source": [
    "## Nested if"
   ]
  },
  {
   "cell_type": "code",
   "execution_count": 6,
   "id": "d1c57240",
   "metadata": {
    "id": "d1c57240"
   },
   "outputs": [
    {
     "name": "stdin",
     "output_type": "stream",
     "text": [
      "Enter a number : 45\n",
      "Enter a number : 5\n",
      "Enter a number : 2\n"
     ]
    }
   ],
   "source": [
    "# Prompt the user to enter the number\n",
    "a = int(input('Enter a number :'))\n",
    "# Prompt the user to enter the number\n",
    "b = int(input('Enter a number :'))\n",
    "# Prompt the user to enter the number\n",
    "c = int(input('Enter a number :'))"
   ]
  },
  {
   "cell_type": "code",
   "execution_count": 7,
   "id": "cfb2d1df",
   "metadata": {
    "id": "cfb2d1df"
   },
   "outputs": [
    {
     "name": "stdout",
     "output_type": "stream",
     "text": [
      "a ( 45 ) is greatest\n"
     ]
    }
   ],
   "source": [
    "if (a > b):\n",
    "    if (a > c):\n",
    "        print('a (', a, ') is greatest')\n",
    "    else :\n",
    "        print('c (', c, ') is greatest')\n",
    "else :\n",
    "    if (b > c):\n",
    "        print('b (', b, ') is greatest')\n",
    "    else :\n",
    "        print('c (', c, ') is greatest')"
   ]
  },
  {
   "cell_type": "markdown",
   "id": "be62d16e",
   "metadata": {
    "id": "be62d16e"
   },
   "source": [
    "# Loops"
   ]
  },
  {
   "cell_type": "markdown",
   "id": "fdf844e6",
   "metadata": {
    "id": "fdf844e6"
   },
   "source": [
    "## for loop"
   ]
  },
  {
   "cell_type": "code",
   "execution_count": 8,
   "id": "0455be24",
   "metadata": {
    "id": "0455be24"
   },
   "outputs": [
    {
     "name": "stdout",
     "output_type": "stream",
     "text": [
      "P\n",
      "y\n",
      "t\n",
      "h\n",
      "o\n",
      "n\n",
      "Thank You!!\n"
     ]
    }
   ],
   "source": [
    "string = 'Python'\n",
    "for s in string:\n",
    "    print(s)\n",
    "# Print a thank you message\n",
    "print('Thank You!!')"
   ]
  },
  {
   "cell_type": "markdown",
   "id": "868ee650",
   "metadata": {
    "id": "868ee650"
   },
   "source": [
    "### Output Explanation\n",
    "The output of this cell is:\n",
    "```\n",
    "P\n",
    "y\n",
    "t\n",
    "h\n",
    "o\n",
    "n\n",
    "Thank You!!\n",
    "\n",
    "```\n"
   ]
  },
  {
   "cell_type": "markdown",
   "id": "d870d063",
   "metadata": {
    "id": "d870d063"
   },
   "source": [
    "## while loop"
   ]
  },
  {
   "cell_type": "code",
   "execution_count": 9,
   "id": "ad06ebe6",
   "metadata": {
    "id": "ad06ebe6"
   },
   "outputs": [
    {
     "name": "stdout",
     "output_type": "stream",
     "text": [
      "0\n",
      "1\n",
      "2\n",
      "3\n",
      "4\n",
      "Thank You!!\n"
     ]
    }
   ],
   "source": [
    "counter = 0\n",
    "while counter < 5:\n",
    "    print(counter)\n",
    "    counter += 1\n",
    "# Print a thank you message\n",
    "print('Thank You!!')"
   ]
  },
  {
   "cell_type": "markdown",
   "id": "9fc65cd9",
   "metadata": {
    "id": "9fc65cd9"
   },
   "source": [
    "### Output Explanation\n",
    "The output of this cell is:\n",
    "```\n",
    "0\n",
    "1\n",
    "2\n",
    "3\n",
    "4\n",
    "Thank You!!\n",
    "\n",
    "```\n"
   ]
  },
  {
   "cell_type": "markdown",
   "id": "564aa923",
   "metadata": {
    "id": "564aa923"
   },
   "source": [
    "##### while loop never executed"
   ]
  },
  {
   "cell_type": "code",
   "execution_count": 10,
   "id": "2dac0b86",
   "metadata": {
    "id": "2dac0b86"
   },
   "outputs": [
    {
     "name": "stdout",
     "output_type": "stream",
     "text": [
      "Thank you\n"
     ]
    }
   ],
   "source": [
    "counter = 5\n",
    "while counter < 5:\n",
    "    print(counter)\n",
    "    counter += 1\n",
    "print('Thank you')"
   ]
  },
  {
   "cell_type": "markdown",
   "id": "891879c1",
   "metadata": {
    "id": "891879c1"
   },
   "source": [
    "#### Output Explanation\n",
    "The output of this cell is:\n",
    "```\n",
    "Thank you\n",
    "\n",
    "```\n"
   ]
  },
  {
   "cell_type": "markdown",
   "id": "3b7b2ed7",
   "metadata": {
    "id": "3b7b2ed7"
   },
   "source": [
    "## Infinite while loop\n",
    "\n",
    "**Warning:** This code demonstrates an infinite loop; if you run it:\n",
    "- Quickly click the stop button in Jupyter Lab to interrupt the cell.\n",
    "- If it doesn’t stop, go to __Kernel > Restart Kernel__ to regain control, though this will reset your variables."
   ]
  },
  {
   "cell_type": "code",
   "execution_count": null,
   "id": "a77c65ea-77c3-477b-869e-dd195e4735b7",
   "metadata": {
    "id": "a77c65ea-77c3-477b-869e-dd195e4735b7"
   },
   "outputs": [],
   "source": [
    "counter = 0\n",
    "while counter < 5:\n",
    "    print(counter)\n",
    "print('Thank you')"
   ]
  },
  {
   "cell_type": "markdown",
   "id": "b8b09fbf-b658-48d7-b070-ceb2a6d4a153",
   "metadata": {
    "id": "b8b09fbf-b658-48d7-b070-ceb2a6d4a153"
   },
   "source": [
    "#### Output Explanation\n",
    "The output of this cell is:\n",
    "\n",
    "0\n",
    "\n",
    "0\n",
    "\n",
    "0\n",
    "\n",
    "0\n",
    "\n",
    "0\n",
    "\n",
    "0\n",
    "\n",
    "...\n",
    "\n",
    "The output will be an endless stream of 0s, because the value of *counter* never changes and the loop condition *counter < 5* remains true indefinitely."
   ]
  },
  {
   "cell_type": "markdown",
   "id": "162e23a1",
   "metadata": {
    "id": "162e23a1"
   },
   "source": [
    "## Range function"
   ]
  },
  {
   "cell_type": "markdown",
   "id": "015aac85",
   "metadata": {
    "id": "015aac85"
   },
   "source": [
    "#### range(n)"
   ]
  },
  {
   "cell_type": "code",
   "execution_count": 12,
   "id": "bd2d6ab4",
   "metadata": {
    "id": "bd2d6ab4"
   },
   "outputs": [
    {
     "name": "stdout",
     "output_type": "stream",
     "text": [
      "range(0, 10)\n"
     ]
    }
   ],
   "source": [
    "obj = range(10)\n",
    "print(obj)"
   ]
  },
  {
   "cell_type": "code",
   "execution_count": 13,
   "id": "3a585a0d",
   "metadata": {
    "id": "3a585a0d"
   },
   "outputs": [
    {
     "name": "stdout",
     "output_type": "stream",
     "text": [
      "[0, 1, 2, 3, 4, 5, 6, 7, 8, 9]\n"
     ]
    }
   ],
   "source": [
    "print(list(obj))"
   ]
  },
  {
   "cell_type": "markdown",
   "id": "2800819d",
   "metadata": {
    "id": "2800819d"
   },
   "source": [
    "#### range(start, stop)"
   ]
  },
  {
   "cell_type": "code",
   "execution_count": 14,
   "id": "2763cefa",
   "metadata": {
    "id": "2763cefa"
   },
   "outputs": [
    {
     "name": "stdout",
     "output_type": "stream",
     "text": [
      "[5, 6, 7, 8, 9, 10, 11, 12, 13, 14]\n"
     ]
    }
   ],
   "source": [
    "obj = range(5, 15)\n",
    "print(list(obj))"
   ]
  },
  {
   "cell_type": "markdown",
   "id": "9db1db43",
   "metadata": {
    "id": "9db1db43"
   },
   "source": [
    "#### Step in range"
   ]
  },
  {
   "cell_type": "code",
   "execution_count": 15,
   "id": "11f321e3",
   "metadata": {
    "id": "11f321e3"
   },
   "outputs": [
    {
     "name": "stdout",
     "output_type": "stream",
     "text": [
      "[2, 4, 6, 8, 10, 12, 14, 16, 18, 20, 22, 24, 26, 28, 30, 32, 34, 36, 38, 40, 42, 44, 46, 48]\n"
     ]
    }
   ],
   "source": [
    "obj = range(2, 50, 2)\n",
    "print(list(obj))"
   ]
  },
  {
   "cell_type": "markdown",
   "id": "891a83dd",
   "metadata": {
    "id": "891a83dd"
   },
   "source": [
    "## Nested Loops"
   ]
  },
  {
   "cell_type": "code",
   "execution_count": 16,
   "id": "da37eefa",
   "metadata": {
    "id": "da37eefa"
   },
   "outputs": [
    {
     "name": "stdout",
     "output_type": "stream",
     "text": [
      "Table of : 2\n",
      "     2 X  1 =  2    \n",
      "     2 X  2 =  4    \n",
      "     2 X  3 =  6    \n",
      "     2 X  4 =  8    \n",
      "     2 X  5 = 10    \n",
      "     2 X  6 = 12    \n",
      "     2 X  7 = 14    \n",
      "     2 X  8 = 16    \n",
      "     2 X  9 = 18    \n",
      "     2 X 10 = 20    \n",
      "\n",
      "End of multiplication table of  2 \n",
      "\n",
      "Table of : 3\n",
      "     3 X  1 =  2    \n",
      "     3 X  2 =  4    \n",
      "     3 X  3 =  6    \n",
      "     3 X  4 =  8    \n",
      "     3 X  5 = 10    \n",
      "     3 X  6 = 12    \n",
      "     3 X  7 = 14    \n",
      "     3 X  8 = 16    \n",
      "     3 X  9 = 18    \n",
      "     3 X 10 = 20    \n",
      "\n",
      "End of multiplication table of  3 \n",
      "\n",
      "Table of : 4\n",
      "     4 X  1 =  2    \n",
      "     4 X  2 =  4    \n",
      "     4 X  3 =  6    \n",
      "     4 X  4 =  8    \n",
      "     4 X  5 = 10    \n",
      "     4 X  6 = 12    \n",
      "     4 X  7 = 14    \n",
      "     4 X  8 = 16    \n",
      "     4 X  9 = 18    \n",
      "     4 X 10 = 20    \n",
      "\n",
      "End of multiplication table of  4 \n",
      "\n",
      "Table of : 5\n",
      "     5 X  1 =  2    \n",
      "     5 X  2 =  4    \n",
      "     5 X  3 =  6    \n",
      "     5 X  4 =  8    \n",
      "     5 X  5 = 10    \n",
      "     5 X  6 = 12    \n",
      "     5 X  7 = 14    \n",
      "     5 X  8 = 16    \n",
      "     5 X  9 = 18    \n",
      "     5 X 10 = 20    \n",
      "\n",
      "End of multiplication table of  5 \n",
      "\n",
      "Table of : 6\n",
      "     6 X  1 =  2    \n",
      "     6 X  2 =  4    \n",
      "     6 X  3 =  6    \n",
      "     6 X  4 =  8    \n",
      "     6 X  5 = 10    \n",
      "     6 X  6 = 12    \n",
      "     6 X  7 = 14    \n",
      "     6 X  8 = 16    \n",
      "     6 X  9 = 18    \n",
      "     6 X 10 = 20    \n",
      "\n",
      "End of multiplication table of  6 \n",
      "\n",
      "Table of : 7\n",
      "     7 X  1 =  2    \n",
      "     7 X  2 =  4    \n",
      "     7 X  3 =  6    \n",
      "     7 X  4 =  8    \n",
      "     7 X  5 = 10    \n",
      "     7 X  6 = 12    \n",
      "     7 X  7 = 14    \n",
      "     7 X  8 = 16    \n",
      "     7 X  9 = 18    \n",
      "     7 X 10 = 20    \n",
      "\n",
      "End of multiplication table of  7 \n",
      "\n",
      "Table of : 8\n",
      "     8 X  1 =  2    \n",
      "     8 X  2 =  4    \n",
      "     8 X  3 =  6    \n",
      "     8 X  4 =  8    \n",
      "     8 X  5 = 10    \n",
      "     8 X  6 = 12    \n",
      "     8 X  7 = 14    \n",
      "     8 X  8 = 16    \n",
      "     8 X  9 = 18    \n",
      "     8 X 10 = 20    \n",
      "\n",
      "End of multiplication table of  8 \n",
      "\n",
      "Table of : 9\n",
      "     9 X  1 =  2    \n",
      "     9 X  2 =  4    \n",
      "     9 X  3 =  6    \n",
      "     9 X  4 =  8    \n",
      "     9 X  5 = 10    \n",
      "     9 X  6 = 12    \n",
      "     9 X  7 = 14    \n",
      "     9 X  8 = 16    \n",
      "     9 X  9 = 18    \n",
      "     9 X 10 = 20    \n",
      "\n",
      "End of multiplication table of  9 \n",
      "\n",
      "Table of : 10\n",
      "    10 X  1 =  2    \n",
      "    10 X  2 =  4    \n",
      "    10 X  3 =  6    \n",
      "    10 X  4 =  8    \n",
      "    10 X  5 = 10    \n",
      "    10 X  6 = 12    \n",
      "    10 X  7 = 14    \n",
      "    10 X  8 = 16    \n",
      "    10 X  9 = 18    \n",
      "    10 X 10 = 20    \n",
      "\n",
      "End of multiplication table of  10 \n",
      "\n",
      "Thank You\n"
     ]
    }
   ],
   "source": [
    "# outer loop\n",
    "for j in range(2,11):\n",
    "    print('Table of :', j)\n",
    "    # inner loop\n",
    "    for i in range(1,11):\n",
    "        # print multiplication\n",
    "        print('{:2d} X {:2d} = {:2d}'.format(j,i, 2*i).center(20))\n",
    "    print('\\nEnd of multiplication table of ', j, '\\n')\n",
    "print('Thank You')"
   ]
  },
  {
   "cell_type": "markdown",
   "id": "945a4fd7",
   "metadata": {
    "id": "945a4fd7",
    "tags": []
   },
   "source": [
    "## Loop Control Statements"
   ]
  },
  {
   "cell_type": "code",
   "execution_count": 17,
   "id": "e80867d3",
   "metadata": {
    "id": "e80867d3"
   },
   "outputs": [
    {
     "name": "stdout",
     "output_type": "stream",
     "text": [
      "P\n",
      "y\n",
      "t\n",
      "End of Loop\n"
     ]
    }
   ],
   "source": [
    "for s in 'Python':\n",
    "    if s == 'h':\n",
    "        break\n",
    "    print(s)\n",
    "print('End of Loop')"
   ]
  },
  {
   "cell_type": "code",
   "execution_count": 18,
   "id": "d15d44e1",
   "metadata": {
    "id": "d15d44e1"
   },
   "outputs": [
    {
     "name": "stdout",
     "output_type": "stream",
     "text": [
      "P\n",
      "y\n",
      "t\n",
      "o\n",
      "n\n",
      "End of Loop\n"
     ]
    }
   ],
   "source": [
    "for s in 'Python':\n",
    "    if s == 'h':\n",
    "        continue\n",
    "    print(s)\n",
    "print('End of Loop')"
   ]
  },
  {
   "cell_type": "markdown",
   "id": "2dc4c990",
   "metadata": {
    "id": "2dc4c990"
   },
   "source": [
    "## Loop Else Statements"
   ]
  },
  {
   "cell_type": "code",
   "execution_count": 7,
   "id": "c75563ee",
   "metadata": {
    "id": "c75563ee"
   },
   "outputs": [
    {
     "name": "stdin",
     "output_type": "stream",
     "text": [
      "Enter edible item:  spam\n"
     ]
    },
    {
     "name": "stdout",
     "output_type": "stream",
     "text": [
      "No more spam please!!\n",
      "Finally finished stuffing myself!!\n"
     ]
    }
   ],
   "source": [
    "for i in range(5):\n",
    "    # Code that will execute each iteration of the loop\n",
    "    food = input('Enter edible item: ')\n",
    "    if food == 'spam':\n",
    "        print('No more spam please!!')\n",
    "        break  # If \"spam\" is entered, the loop exits here\n",
    "    else:\n",
    "    # This else aligns with \"for\" and runs only if no \"break\" occurs\n",
    "        print('I am so glad!! No Spam')\n",
    "\n",
    "# Code outside the loop that runs regardless of loop outcome\n",
    "print('Finally finished stuffing myself!!')\n"
   ]
  }
 ],
 "metadata": {
  "colab": {
   "provenance": []
  },
  "kernelspec": {
   "display_name": "Python 3 [3.10]",
   "language": "python",
   "name": "python3"
  },
  "language_info": {
   "codemirror_mode": {
    "name": "ipython",
    "version": 3
   },
   "file_extension": ".py",
   "mimetype": "text/x-python",
   "name": "python",
   "nbconvert_exporter": "python",
   "pygments_lexer": "ipython3",
   "version": "3.10.2"
  }
 },
 "nbformat": 4,
 "nbformat_minor": 5
}
